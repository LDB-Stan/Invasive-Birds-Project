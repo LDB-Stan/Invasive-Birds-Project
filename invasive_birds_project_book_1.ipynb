{
 "cells": [
  {
   "cell_type": "markdown",
   "id": "87f409c2",
   "metadata": {},
   "source": [
    "# Invasive Birds Project\n",
    "## Notebook 1: Data Prep\n",
    "Original data source: [Project FeederWatch Raw Dataset Downloads](https://feederwatch.org/explore/raw-dataset-requests/) "
   ]
  },
  {
   "cell_type": "markdown",
   "id": "d1402d01-164e-4e7b-87b6-0f5e971431b9",
   "metadata": {},
   "source": [
    "[![feederwatch banneer image](images/feederwatch_banner.jpg)](https://feederwatch.org/)  \n",
    "Click the banner for more information on Project FeederWatch."
   ]
  },
  {
   "cell_type": "markdown",
   "id": "9aed52c5-b346-4c18-95c4-4bdfc00d7c39",
   "metadata": {},
   "source": [
    "---\n",
    "### About the data:\n",
    "The FeederWatch data consist of seven rather sizeable datasets, spanning from 1987 to 2024 (at the time of this writing). They provide a very wide scope of information, not all of which is needed for this particular project. In addition, files of this magnitude far exceed the limits of GitHub. All that in consideration, the end goal of this notebook is to create a dataframe that meets these criteria."
   ]
  },
  {
   "cell_type": "markdown",
   "id": "63c9f910",
   "metadata": {},
   "source": [
    "### Getting started: the preliminaries"
   ]
  },
  {
   "cell_type": "code",
   "execution_count": 2,
   "id": "c14be330",
   "metadata": {},
   "outputs": [],
   "source": [
    "import pandas as pd\n",
    "import numpy as np\n",
    "import glob\n",
    "\n",
    "pd.options.mode.chained_assignment = None # disable chain assignment warnings"
   ]
  },
  {
   "cell_type": "markdown",
   "id": "1cedcf91",
   "metadata": {},
   "source": [
    "## Initial inspection of a dataset\n",
    "\n",
    "Information provided by Project FeederWatch, included in **FeederWatch_Data_Dictionary.xlsx**, indicates that the structure of all of the checklist tables are the same. Before further work with all of the files, a preview of a single file will help determine which data will be useful for the project and what can be further derived from it."
   ]
  },
  {
   "cell_type": "code",
   "execution_count": 2,
   "id": "65725867",
   "metadata": {
    "scrolled": true
   },
   "outputs": [
    {
     "data": {
      "text/html": [
       "<div>\n",
       "<style scoped>\n",
       "    .dataframe tbody tr th:only-of-type {\n",
       "        vertical-align: middle;\n",
       "    }\n",
       "\n",
       "    .dataframe tbody tr th {\n",
       "        vertical-align: top;\n",
       "    }\n",
       "\n",
       "    .dataframe thead th {\n",
       "        text-align: right;\n",
       "    }\n",
       "</style>\n",
       "<table border=\"1\" class=\"dataframe\">\n",
       "  <thead>\n",
       "    <tr style=\"text-align: right;\">\n",
       "      <th></th>\n",
       "      <th>LOC_ID</th>\n",
       "      <th>LATITUDE</th>\n",
       "      <th>LONGITUDE</th>\n",
       "      <th>SUBNATIONAL1_CODE</th>\n",
       "      <th>ENTRY_TECHNIQUE</th>\n",
       "      <th>SUB_ID</th>\n",
       "      <th>OBS_ID</th>\n",
       "      <th>Month</th>\n",
       "      <th>Day</th>\n",
       "      <th>Year</th>\n",
       "      <th>PROJ_PERIOD_ID</th>\n",
       "      <th>SPECIES_CODE</th>\n",
       "      <th>alt_full_spp_code</th>\n",
       "      <th>HOW_MANY</th>\n",
       "      <th>PLUS_CODE</th>\n",
       "      <th>VALID</th>\n",
       "      <th>REVIEWED</th>\n",
       "      <th>DAY1_AM</th>\n",
       "      <th>DAY1_PM</th>\n",
       "      <th>DAY2_AM</th>\n",
       "      <th>DAY2_PM</th>\n",
       "      <th>EFFORT_HRS_ATLEAST</th>\n",
       "      <th>SNOW_DEP_ATLEAST</th>\n",
       "      <th>Data_Entry_Method</th>\n",
       "    </tr>\n",
       "  </thead>\n",
       "  <tbody>\n",
       "    <tr>\n",
       "      <th>0</th>\n",
       "      <td>L103924</td>\n",
       "      <td>42.557469</td>\n",
       "      <td>-83.199715</td>\n",
       "      <td>US-MI</td>\n",
       "      <td>PointMaker1.0_2</td>\n",
       "      <td>S119768</td>\n",
       "      <td>OBS6669852</td>\n",
       "      <td>1</td>\n",
       "      <td>11</td>\n",
       "      <td>1992</td>\n",
       "      <td>PFW_1992</td>\n",
       "      <td>houfin</td>\n",
       "      <td>NaN</td>\n",
       "      <td>4.0</td>\n",
       "      <td>0.0</td>\n",
       "      <td>1.0</td>\n",
       "      <td>0.0</td>\n",
       "      <td>1.0</td>\n",
       "      <td>1.0</td>\n",
       "      <td>1.0</td>\n",
       "      <td>1.0</td>\n",
       "      <td>NaN</td>\n",
       "      <td>0.0</td>\n",
       "      <td>NaN</td>\n",
       "    </tr>\n",
       "    <tr>\n",
       "      <th>1</th>\n",
       "      <td>L103924</td>\n",
       "      <td>42.557469</td>\n",
       "      <td>-83.199715</td>\n",
       "      <td>US-MI</td>\n",
       "      <td>PointMaker1.0_2</td>\n",
       "      <td>S119768</td>\n",
       "      <td>OBS6669853</td>\n",
       "      <td>1</td>\n",
       "      <td>11</td>\n",
       "      <td>1992</td>\n",
       "      <td>PFW_1992</td>\n",
       "      <td>houspa</td>\n",
       "      <td>NaN</td>\n",
       "      <td>26.0</td>\n",
       "      <td>0.0</td>\n",
       "      <td>1.0</td>\n",
       "      <td>0.0</td>\n",
       "      <td>1.0</td>\n",
       "      <td>1.0</td>\n",
       "      <td>1.0</td>\n",
       "      <td>1.0</td>\n",
       "      <td>NaN</td>\n",
       "      <td>0.0</td>\n",
       "      <td>NaN</td>\n",
       "    </tr>\n",
       "    <tr>\n",
       "      <th>2</th>\n",
       "      <td>L103924</td>\n",
       "      <td>42.557469</td>\n",
       "      <td>-83.199715</td>\n",
       "      <td>US-MI</td>\n",
       "      <td>PointMaker1.0_2</td>\n",
       "      <td>S119768</td>\n",
       "      <td>OBS7763087</td>\n",
       "      <td>1</td>\n",
       "      <td>11</td>\n",
       "      <td>1992</td>\n",
       "      <td>PFW_1992</td>\n",
       "      <td>moudov</td>\n",
       "      <td>NaN</td>\n",
       "      <td>5.0</td>\n",
       "      <td>0.0</td>\n",
       "      <td>1.0</td>\n",
       "      <td>0.0</td>\n",
       "      <td>1.0</td>\n",
       "      <td>1.0</td>\n",
       "      <td>1.0</td>\n",
       "      <td>1.0</td>\n",
       "      <td>NaN</td>\n",
       "      <td>0.0</td>\n",
       "      <td>NaN</td>\n",
       "    </tr>\n",
       "    <tr>\n",
       "      <th>3</th>\n",
       "      <td>L103924</td>\n",
       "      <td>42.557469</td>\n",
       "      <td>-83.199715</td>\n",
       "      <td>US-MI</td>\n",
       "      <td>PointMaker1.0_2</td>\n",
       "      <td>S119768</td>\n",
       "      <td>OBS5875613</td>\n",
       "      <td>1</td>\n",
       "      <td>11</td>\n",
       "      <td>1992</td>\n",
       "      <td>PFW_1992</td>\n",
       "      <td>eursta</td>\n",
       "      <td>NaN</td>\n",
       "      <td>35.0</td>\n",
       "      <td>0.0</td>\n",
       "      <td>1.0</td>\n",
       "      <td>0.0</td>\n",
       "      <td>1.0</td>\n",
       "      <td>1.0</td>\n",
       "      <td>1.0</td>\n",
       "      <td>1.0</td>\n",
       "      <td>NaN</td>\n",
       "      <td>0.0</td>\n",
       "      <td>NaN</td>\n",
       "    </tr>\n",
       "    <tr>\n",
       "      <th>4</th>\n",
       "      <td>L103924</td>\n",
       "      <td>42.557469</td>\n",
       "      <td>-83.199715</td>\n",
       "      <td>US-MI</td>\n",
       "      <td>PointMaker1.0_2</td>\n",
       "      <td>S119768</td>\n",
       "      <td>OBS5875614</td>\n",
       "      <td>1</td>\n",
       "      <td>11</td>\n",
       "      <td>1992</td>\n",
       "      <td>PFW_1992</td>\n",
       "      <td>daejun</td>\n",
       "      <td>NaN</td>\n",
       "      <td>2.0</td>\n",
       "      <td>0.0</td>\n",
       "      <td>1.0</td>\n",
       "      <td>0.0</td>\n",
       "      <td>1.0</td>\n",
       "      <td>1.0</td>\n",
       "      <td>1.0</td>\n",
       "      <td>1.0</td>\n",
       "      <td>NaN</td>\n",
       "      <td>0.0</td>\n",
       "      <td>NaN</td>\n",
       "    </tr>\n",
       "  </tbody>\n",
       "</table>\n",
       "</div>"
      ],
      "text/plain": [
       "    LOC_ID   LATITUDE  LONGITUDE SUBNATIONAL1_CODE  ENTRY_TECHNIQUE   SUB_ID  \\\n",
       "0  L103924  42.557469 -83.199715             US-MI  PointMaker1.0_2  S119768   \n",
       "1  L103924  42.557469 -83.199715             US-MI  PointMaker1.0_2  S119768   \n",
       "2  L103924  42.557469 -83.199715             US-MI  PointMaker1.0_2  S119768   \n",
       "3  L103924  42.557469 -83.199715             US-MI  PointMaker1.0_2  S119768   \n",
       "4  L103924  42.557469 -83.199715             US-MI  PointMaker1.0_2  S119768   \n",
       "\n",
       "       OBS_ID  Month  Day  Year PROJ_PERIOD_ID SPECIES_CODE alt_full_spp_code  \\\n",
       "0  OBS6669852      1   11  1992       PFW_1992       houfin               NaN   \n",
       "1  OBS6669853      1   11  1992       PFW_1992       houspa               NaN   \n",
       "2  OBS7763087      1   11  1992       PFW_1992       moudov               NaN   \n",
       "3  OBS5875613      1   11  1992       PFW_1992       eursta               NaN   \n",
       "4  OBS5875614      1   11  1992       PFW_1992       daejun               NaN   \n",
       "\n",
       "   HOW_MANY  PLUS_CODE  VALID  REVIEWED  DAY1_AM  DAY1_PM  DAY2_AM  DAY2_PM  \\\n",
       "0       4.0        0.0    1.0       0.0      1.0      1.0      1.0      1.0   \n",
       "1      26.0        0.0    1.0       0.0      1.0      1.0      1.0      1.0   \n",
       "2       5.0        0.0    1.0       0.0      1.0      1.0      1.0      1.0   \n",
       "3      35.0        0.0    1.0       0.0      1.0      1.0      1.0      1.0   \n",
       "4       2.0        0.0    1.0       0.0      1.0      1.0      1.0      1.0   \n",
       "\n",
       "   EFFORT_HRS_ATLEAST  SNOW_DEP_ATLEAST Data_Entry_Method  \n",
       "0                 NaN               0.0               NaN  \n",
       "1                 NaN               0.0               NaN  \n",
       "2                 NaN               0.0               NaN  \n",
       "3                 NaN               0.0               NaN  \n",
       "4                 NaN               0.0               NaN  "
      ]
     },
     "execution_count": 2,
     "metadata": {},
     "output_type": "execute_result"
    }
   ],
   "source": [
    "#load first dataset for inspection\n",
    "\n",
    "preview = pd.read_csv('bird_datasets/Project FeederWatch/all_years/PFW_all_1988_1995_June2023_Public.csv', low_memory = False)\n",
    "pd.set_option('display.max_columns', None)\n",
    "\n",
    "preview.head()"
   ]
  },
  {
   "cell_type": "code",
   "execution_count": 3,
   "id": "753c5fd4",
   "metadata": {
    "scrolled": true
   },
   "outputs": [
    {
     "name": "stdout",
     "output_type": "stream",
     "text": [
      "<class 'pandas.core.frame.DataFrame'>\n",
      "RangeIndex: 2950137 entries, 0 to 2950136\n",
      "Data columns (total 24 columns):\n",
      " #   Column              Non-Null Count    Dtype  \n",
      "---  ------              --------------    -----  \n",
      " 0   LOC_ID              2950137 non-null  object \n",
      " 1   LATITUDE            2950137 non-null  float64\n",
      " 2   LONGITUDE           2950137 non-null  float64\n",
      " 3   SUBNATIONAL1_CODE   2950137 non-null  object \n",
      " 4   ENTRY_TECHNIQUE     2950137 non-null  object \n",
      " 5   SUB_ID              2950137 non-null  object \n",
      " 6   OBS_ID              2947696 non-null  object \n",
      " 7   Month               2950137 non-null  int64  \n",
      " 8   Day                 2950137 non-null  int64  \n",
      " 9   Year                2950137 non-null  int64  \n",
      " 10  PROJ_PERIOD_ID      2950137 non-null  object \n",
      " 11  SPECIES_CODE        2950137 non-null  object \n",
      " 12  alt_full_spp_code   22519 non-null    object \n",
      " 13  HOW_MANY            2947696 non-null  float64\n",
      " 14  PLUS_CODE           2947075 non-null  float64\n",
      " 15  VALID               2947696 non-null  float64\n",
      " 16  REVIEWED            2947696 non-null  float64\n",
      " 17  DAY1_AM             2675081 non-null  float64\n",
      " 18  DAY1_PM             2675081 non-null  float64\n",
      " 19  DAY2_AM             2675081 non-null  float64\n",
      " 20  DAY2_PM             2675081 non-null  float64\n",
      " 21  EFFORT_HRS_ATLEAST  449315 non-null   float64\n",
      " 22  SNOW_DEP_ATLEAST    2029864 non-null  float64\n",
      " 23  Data_Entry_Method   155 non-null      object \n",
      "dtypes: float64(12), int64(3), object(9)\n",
      "memory usage: 540.2+ MB\n"
     ]
    }
   ],
   "source": [
    "preview.info(show_counts=True)"
   ]
  },
  {
   "cell_type": "markdown",
   "id": "06423d18",
   "metadata": {},
   "source": [
    "#### Space and time"
   ]
  },
  {
   "cell_type": "code",
   "execution_count": 4,
   "id": "d9259a93",
   "metadata": {},
   "outputs": [
    {
     "data": {
      "text/plain": [
       "array(['US-MI', 'CA-ON', 'US-CO', 'US-IL', 'US-MD', 'US-CA', 'US-ME',\n",
       "       'US-SC', 'US-OH', 'US-VA', 'US-AL', 'US-MO', 'US-NE', 'US-CT',\n",
       "       'US-MA', 'US-NY', 'US-WV', 'US-TN', 'US-SD', 'US-MN', 'US-TX',\n",
       "       'US-WA', 'US-ID', 'US-FL', 'US-OK', 'US-IN', 'US-WI', 'US-AZ',\n",
       "       'US-NC', 'US-PA', 'US-IA', 'US-DE', 'US-GA', 'US-NM', 'US-KS',\n",
       "       'US-NJ', 'US-KY', 'US-NH', 'CA-AB', 'CA-MB', 'CA-BC', 'US-VT',\n",
       "       'US-OR', 'US-AR', 'US-AK', 'US-HI', 'US-MT', 'US-UT', 'CA-NL',\n",
       "       'CA-QC', 'US-WY', 'US-MS', 'US-LA', 'CA-SK', 'US-RI', 'CA-YT',\n",
       "       'CA-NB', 'CA-NS', 'US-DC', 'US-NV', 'US-ND', 'CA-PE', 'CA-NT'],\n",
       "      dtype=object)"
      ]
     },
     "execution_count": 4,
     "metadata": {},
     "output_type": "execute_result"
    }
   ],
   "source": [
    "preview.SUBNATIONAL1_CODE.unique()"
   ]
  },
  {
   "cell_type": "code",
   "execution_count": 5,
   "id": "d875f76e",
   "metadata": {},
   "outputs": [
    {
     "data": {
      "text/plain": [
       "array([1992, 1991, 1989, 1988, 1994, 1995, 1993, 1990, 1987], dtype=int64)"
      ]
     },
     "execution_count": 5,
     "metadata": {},
     "output_type": "execute_result"
    }
   ],
   "source": [
    "preview.Year.unique()"
   ]
  },
  {
   "cell_type": "markdown",
   "id": "87c1e925",
   "metadata": {},
   "source": [
    "---\n",
    "## Trimming it down to the essentials\n",
    "There is an extraordinary amount of information, but it's also much more than is needed for this project. At this stage, and with the help of an enirely different dataset, also provided by FeederWatch, everything else can be derived from only four columns."
   ]
  },
  {
   "cell_type": "code",
   "execution_count": 6,
   "id": "0a9ad16f",
   "metadata": {},
   "outputs": [
    {
     "data": {
      "text/html": [
       "<div>\n",
       "<style scoped>\n",
       "    .dataframe tbody tr th:only-of-type {\n",
       "        vertical-align: middle;\n",
       "    }\n",
       "\n",
       "    .dataframe tbody tr th {\n",
       "        vertical-align: top;\n",
       "    }\n",
       "\n",
       "    .dataframe thead th {\n",
       "        text-align: right;\n",
       "    }\n",
       "</style>\n",
       "<table border=\"1\" class=\"dataframe\">\n",
       "  <thead>\n",
       "    <tr style=\"text-align: right;\">\n",
       "      <th></th>\n",
       "      <th>SUBNATIONAL1_CODE</th>\n",
       "      <th>Year</th>\n",
       "      <th>SPECIES_CODE</th>\n",
       "      <th>HOW_MANY</th>\n",
       "    </tr>\n",
       "  </thead>\n",
       "  <tbody>\n",
       "    <tr>\n",
       "      <th>0</th>\n",
       "      <td>US-MI</td>\n",
       "      <td>1992</td>\n",
       "      <td>houfin</td>\n",
       "      <td>4.0</td>\n",
       "    </tr>\n",
       "    <tr>\n",
       "      <th>1</th>\n",
       "      <td>US-MI</td>\n",
       "      <td>1992</td>\n",
       "      <td>houspa</td>\n",
       "      <td>26.0</td>\n",
       "    </tr>\n",
       "    <tr>\n",
       "      <th>2</th>\n",
       "      <td>US-MI</td>\n",
       "      <td>1992</td>\n",
       "      <td>moudov</td>\n",
       "      <td>5.0</td>\n",
       "    </tr>\n",
       "    <tr>\n",
       "      <th>3</th>\n",
       "      <td>US-MI</td>\n",
       "      <td>1992</td>\n",
       "      <td>eursta</td>\n",
       "      <td>35.0</td>\n",
       "    </tr>\n",
       "    <tr>\n",
       "      <th>4</th>\n",
       "      <td>US-MI</td>\n",
       "      <td>1992</td>\n",
       "      <td>daejun</td>\n",
       "      <td>2.0</td>\n",
       "    </tr>\n",
       "  </tbody>\n",
       "</table>\n",
       "</div>"
      ],
      "text/plain": [
       "  SUBNATIONAL1_CODE  Year SPECIES_CODE  HOW_MANY\n",
       "0             US-MI  1992       houfin       4.0\n",
       "1             US-MI  1992       houspa      26.0\n",
       "2             US-MI  1992       moudov       5.0\n",
       "3             US-MI  1992       eursta      35.0\n",
       "4             US-MI  1992       daejun       2.0"
      ]
     },
     "execution_count": 6,
     "metadata": {},
     "output_type": "execute_result"
    }
   ],
   "source": [
    "# specify necessary columns\n",
    "preview_trimmed_columns = ['SUBNATIONAL1_CODE', 'Year', 'SPECIES_CODE', 'HOW_MANY']\n",
    "\n",
    "#load trimmed dataset\n",
    "preview_trimmed = pd.read_csv('bird_datasets/Project FeederWatch/all_years/PFW_all_1988_1995_June2023_Public.csv',\n",
    "                                usecols = preview_trimmed_columns)\n",
    "preview_trimmed.head()"
   ]
  },
  {
   "cell_type": "markdown",
   "id": "761e37eb-3526-4249-9583-eb13ed1ab83a",
   "metadata": {},
   "source": [
    "---\n",
    "## Creating the row filter\n",
    "Ultimately, seven large datasets will be concatenated into one. Even with keeping only four columns, this would still result in a massive file, much of which wouldn't be needed for this study.\n",
    "\n",
    "The focus of this project is cavity nesting birds, so those that don't fall under that classification can be filtered out. Additionally, cavity nesters which wouldn't be reasonably expected to be affected by the invasive cavity nesters can be eliminated from the data. Species which include waterfowl, owls, and even peregrine falcons, among others, can be left aside from this study. *(A European starling facing off against a peregrine falcon, if it were to happen, would be a very short confrontation.)*\n",
    "\n",
    "FeederWatch has provided a table to translate the **SPECIES_CODE** column. This will be used in creating the row filter for all the datasets, as well as in an upcoming step."
   ]
  },
  {
   "cell_type": "code",
   "execution_count": 7,
   "id": "ca18cae1",
   "metadata": {},
   "outputs": [
    {
     "data": {
      "text/html": [
       "<div>\n",
       "<style scoped>\n",
       "    .dataframe tbody tr th:only-of-type {\n",
       "        vertical-align: middle;\n",
       "    }\n",
       "\n",
       "    .dataframe tbody tr th {\n",
       "        vertical-align: top;\n",
       "    }\n",
       "\n",
       "    .dataframe thead th {\n",
       "        text-align: right;\n",
       "    }\n",
       "</style>\n",
       "<table border=\"1\" class=\"dataframe\">\n",
       "  <thead>\n",
       "    <tr style=\"text-align: right;\">\n",
       "      <th></th>\n",
       "      <th>species_code</th>\n",
       "      <th>alt_full_spp_code</th>\n",
       "      <th>n_locations</th>\n",
       "      <th>scientific_name</th>\n",
       "      <th>american_english_name</th>\n",
       "      <th>taxonomy_version</th>\n",
       "      <th>taxonomic_sort_order</th>\n",
       "    </tr>\n",
       "  </thead>\n",
       "  <tbody>\n",
       "    <tr>\n",
       "      <th>0</th>\n",
       "      <td>grerhe1</td>\n",
       "      <td>NaN</td>\n",
       "      <td>1</td>\n",
       "      <td>Rhea americana</td>\n",
       "      <td>Greater Rhea</td>\n",
       "      <td>2022</td>\n",
       "      <td>10</td>\n",
       "    </tr>\n",
       "    <tr>\n",
       "      <th>1</th>\n",
       "      <td>gretin1</td>\n",
       "      <td>NaN</td>\n",
       "      <td>3</td>\n",
       "      <td>Tinamus major</td>\n",
       "      <td>Great Tinamou</td>\n",
       "      <td>2022</td>\n",
       "      <td>42</td>\n",
       "    </tr>\n",
       "    <tr>\n",
       "      <th>2</th>\n",
       "      <td>wfwduc1</td>\n",
       "      <td>NaN</td>\n",
       "      <td>1</td>\n",
       "      <td>Dendrocygna viduata</td>\n",
       "      <td>White-faced Whistling-Duck</td>\n",
       "      <td>2022</td>\n",
       "      <td>228</td>\n",
       "    </tr>\n",
       "    <tr>\n",
       "      <th>3</th>\n",
       "      <td>bbwduc</td>\n",
       "      <td>NaN</td>\n",
       "      <td>105</td>\n",
       "      <td>Dendrocygna autumnalis</td>\n",
       "      <td>Black-bellied Whistling-Duck</td>\n",
       "      <td>2022</td>\n",
       "      <td>230</td>\n",
       "    </tr>\n",
       "    <tr>\n",
       "      <th>4</th>\n",
       "      <td>fuwduc</td>\n",
       "      <td>NaN</td>\n",
       "      <td>2</td>\n",
       "      <td>Dendrocygna bicolor</td>\n",
       "      <td>Fulvous Whistling-Duck</td>\n",
       "      <td>2022</td>\n",
       "      <td>235</td>\n",
       "    </tr>\n",
       "  </tbody>\n",
       "</table>\n",
       "</div>"
      ],
      "text/plain": [
       "  species_code alt_full_spp_code  n_locations         scientific_name  \\\n",
       "0      grerhe1               NaN            1          Rhea americana   \n",
       "1      gretin1               NaN            3           Tinamus major   \n",
       "2      wfwduc1               NaN            1     Dendrocygna viduata   \n",
       "3       bbwduc               NaN          105  Dendrocygna autumnalis   \n",
       "4       fuwduc               NaN            2     Dendrocygna bicolor   \n",
       "\n",
       "          american_english_name  taxonomy_version  taxonomic_sort_order  \n",
       "0                  Greater Rhea              2022                    10  \n",
       "1                 Great Tinamou              2022                    42  \n",
       "2    White-faced Whistling-Duck              2022                   228  \n",
       "3  Black-bellied Whistling-Duck              2022                   230  \n",
       "4        Fulvous Whistling-Duck              2022                   235  "
      ]
     },
     "execution_count": 7,
     "metadata": {},
     "output_type": "execute_result"
    }
   ],
   "source": [
    "#load species code translator dataset\n",
    "\n",
    "species_codes = pd.read_csv('PFW_spp_translation_table_May2023.csv')\n",
    "species_codes.head()"
   ]
  },
  {
   "cell_type": "markdown",
   "id": "1909fbb4",
   "metadata": {},
   "source": [
    "### Only the species code and common names will be needed from this dataset, so a subset of it will suffice."
   ]
  },
  {
   "cell_type": "code",
   "execution_count": 8,
   "id": "1459728a",
   "metadata": {},
   "outputs": [
    {
     "data": {
      "text/html": [
       "<div>\n",
       "<style scoped>\n",
       "    .dataframe tbody tr th:only-of-type {\n",
       "        vertical-align: middle;\n",
       "    }\n",
       "\n",
       "    .dataframe tbody tr th {\n",
       "        vertical-align: top;\n",
       "    }\n",
       "\n",
       "    .dataframe thead th {\n",
       "        text-align: right;\n",
       "    }\n",
       "</style>\n",
       "<table border=\"1\" class=\"dataframe\">\n",
       "  <thead>\n",
       "    <tr style=\"text-align: right;\">\n",
       "      <th></th>\n",
       "      <th>species_code</th>\n",
       "      <th>american_english_name</th>\n",
       "    </tr>\n",
       "  </thead>\n",
       "  <tbody>\n",
       "    <tr>\n",
       "      <th>0</th>\n",
       "      <td>grerhe1</td>\n",
       "      <td>Greater Rhea</td>\n",
       "    </tr>\n",
       "    <tr>\n",
       "      <th>1</th>\n",
       "      <td>gretin1</td>\n",
       "      <td>Great Tinamou</td>\n",
       "    </tr>\n",
       "    <tr>\n",
       "      <th>2</th>\n",
       "      <td>wfwduc1</td>\n",
       "      <td>White-faced Whistling-Duck</td>\n",
       "    </tr>\n",
       "    <tr>\n",
       "      <th>3</th>\n",
       "      <td>bbwduc</td>\n",
       "      <td>Black-bellied Whistling-Duck</td>\n",
       "    </tr>\n",
       "    <tr>\n",
       "      <th>4</th>\n",
       "      <td>fuwduc</td>\n",
       "      <td>Fulvous Whistling-Duck</td>\n",
       "    </tr>\n",
       "  </tbody>\n",
       "</table>\n",
       "</div>"
      ],
      "text/plain": [
       "  species_code         american_english_name\n",
       "0      grerhe1                  Greater Rhea\n",
       "1      gretin1                 Great Tinamou\n",
       "2      wfwduc1    White-faced Whistling-Duck\n",
       "3       bbwduc  Black-bellied Whistling-Duck\n",
       "4       fuwduc        Fulvous Whistling-Duck"
      ]
     },
     "execution_count": 8,
     "metadata": {},
     "output_type": "execute_result"
    }
   ],
   "source": [
    "# create species_codes subset\n",
    "\n",
    "species_codes_sub = species_codes[['species_code', 'american_english_name']]\n",
    "\n",
    "species_codes_sub.head()"
   ]
  },
  {
   "cell_type": "code",
   "execution_count": 9,
   "id": "173761f3",
   "metadata": {
    "scrolled": true
   },
   "outputs": [
    {
     "name": "stdout",
     "output_type": "stream",
     "text": [
      "<class 'pandas.core.frame.DataFrame'>\n",
      "RangeIndex: 1090 entries, 0 to 1089\n",
      "Data columns (total 2 columns):\n",
      " #   Column                 Non-Null Count  Dtype \n",
      "---  ------                 --------------  ----- \n",
      " 0   species_code           1090 non-null   object\n",
      " 1   american_english_name  1090 non-null   object\n",
      "dtypes: object(2)\n",
      "memory usage: 17.2+ KB\n"
     ]
    }
   ],
   "source": [
    "species_codes_sub.info()"
   ]
  },
  {
   "cell_type": "markdown",
   "id": "1d425aa0",
   "metadata": {},
   "source": [
    "---\n",
    "Again, only the species relevant to the project will be needed. Armed with prior knowledge, Google, and Wikipedia, I was able to compile a list of the cavity nesting species from the FeederWatch data that fit the criteria of the project. I then turned it into a .csv file. This list includes only the common names and matches with the **american_english_name** column of the translator dataset."
   ]
  },
  {
   "cell_type": "code",
   "execution_count": 10,
   "id": "31c56b03",
   "metadata": {},
   "outputs": [
    {
     "name": "stdout",
     "output_type": "stream",
     "text": [
      "<class 'pandas.core.frame.DataFrame'>\n",
      "RangeIndex: 69 entries, 0 to 68\n",
      "Data columns (total 1 columns):\n",
      " #   Column  Non-Null Count  Dtype \n",
      "---  ------  --------------  ----- \n",
      " 0   name    69 non-null     object\n",
      "dtypes: object(1)\n",
      "memory usage: 684.0+ bytes\n"
     ]
    }
   ],
   "source": [
    "# load list of relevant species\n",
    "\n",
    "species_filter = pd.read_csv('c_nester_list.csv')\n",
    "\n",
    "species_filter.info()"
   ]
  },
  {
   "cell_type": "code",
   "execution_count": 11,
   "id": "f637dfcd-31a4-428b-968a-a92daead5773",
   "metadata": {},
   "outputs": [
    {
     "data": {
      "text/plain": [
       "['Arizona Woodpecker',\n",
       " 'Ash-throated Flycatcher',\n",
       " \"Bewick's Wren\",\n",
       " \"Bewick's Wren (bewickii)\",\n",
       " \"Bewick's Wren (spilurus Group)\",\n",
       " 'Black-backed Woodpecker',\n",
       " 'Black-capped Chickadee',\n",
       " 'Boreal Chickadee',\n",
       " 'Bridled Titmouse']"
      ]
     },
     "execution_count": 11,
     "metadata": {},
     "output_type": "execute_result"
    }
   ],
   "source": [
    "species_filter_list = species_filter.name.tolist()\n",
    "species_filter_list[:9]"
   ]
  },
  {
   "cell_type": "markdown",
   "id": "060bb7ab",
   "metadata": {},
   "source": [
    "### Now to filter the translator dataset."
   ]
  },
  {
   "cell_type": "code",
   "execution_count": 12,
   "id": "64d5b581",
   "metadata": {
    "scrolled": true
   },
   "outputs": [
    {
     "data": {
      "text/html": [
       "<div>\n",
       "<style scoped>\n",
       "    .dataframe tbody tr th:only-of-type {\n",
       "        vertical-align: middle;\n",
       "    }\n",
       "\n",
       "    .dataframe tbody tr th {\n",
       "        vertical-align: top;\n",
       "    }\n",
       "\n",
       "    .dataframe thead th {\n",
       "        text-align: right;\n",
       "    }\n",
       "</style>\n",
       "<table border=\"1\" class=\"dataframe\">\n",
       "  <thead>\n",
       "    <tr style=\"text-align: right;\">\n",
       "      <th></th>\n",
       "      <th>species_code</th>\n",
       "      <th>american_english_name</th>\n",
       "    </tr>\n",
       "  </thead>\n",
       "  <tbody>\n",
       "    <tr>\n",
       "      <th>0</th>\n",
       "      <td>ariwoo</td>\n",
       "      <td>Arizona Woodpecker</td>\n",
       "    </tr>\n",
       "    <tr>\n",
       "      <th>1</th>\n",
       "      <td>astfly</td>\n",
       "      <td>Ash-throated Flycatcher</td>\n",
       "    </tr>\n",
       "    <tr>\n",
       "      <th>2</th>\n",
       "      <td>bewwre</td>\n",
       "      <td>Bewick's Wren</td>\n",
       "    </tr>\n",
       "    <tr>\n",
       "      <th>3</th>\n",
       "      <td>bewwre3</td>\n",
       "      <td>Bewick's Wren (bewickii)</td>\n",
       "    </tr>\n",
       "    <tr>\n",
       "      <th>4</th>\n",
       "      <td>bewwre1</td>\n",
       "      <td>Bewick's Wren (spilurus Group)</td>\n",
       "    </tr>\n",
       "  </tbody>\n",
       "</table>\n",
       "</div>"
      ],
      "text/plain": [
       "  species_code           american_english_name\n",
       "0       ariwoo              Arizona Woodpecker\n",
       "1       astfly         Ash-throated Flycatcher\n",
       "2       bewwre                   Bewick's Wren\n",
       "3      bewwre3        Bewick's Wren (bewickii)\n",
       "4      bewwre1  Bewick's Wren (spilurus Group)"
      ]
     },
     "execution_count": 12,
     "metadata": {},
     "output_type": "execute_result"
    }
   ],
   "source": [
    "# filter species_codes_sub rows to inlcude only rows from filter_list\n",
    "\n",
    "species_codes_sub_filtered = species_codes_sub.loc[species_codes_sub['american_english_name'].isin(species_filter_list)].sort_values(by = ['american_english_name'], ascending = True)\n",
    "\n",
    "species_codes_sub_filtered = species_codes_sub_filtered.reset_index(drop = True)\n",
    "\n",
    "species_codes_sub_filtered.head()"
   ]
  },
  {
   "cell_type": "code",
   "execution_count": 13,
   "id": "d55033f9",
   "metadata": {},
   "outputs": [
    {
     "name": "stdout",
     "output_type": "stream",
     "text": [
      "<class 'pandas.core.frame.DataFrame'>\n",
      "RangeIndex: 69 entries, 0 to 68\n",
      "Data columns (total 2 columns):\n",
      " #   Column                 Non-Null Count  Dtype \n",
      "---  ------                 --------------  ----- \n",
      " 0   species_code           69 non-null     object\n",
      " 1   american_english_name  69 non-null     object\n",
      "dtypes: object(2)\n",
      "memory usage: 1.2+ KB\n"
     ]
    }
   ],
   "source": [
    "species_codes_sub_filtered.info()"
   ]
  },
  {
   "cell_type": "code",
   "execution_count": 14,
   "id": "4a2056d2",
   "metadata": {},
   "outputs": [
    {
     "data": {
      "text/plain": [
       "0"
      ]
     },
     "execution_count": 14,
     "metadata": {},
     "output_type": "execute_result"
    }
   ],
   "source": [
    "# check length of dataset against filter list\n",
    "\n",
    "len(species_filter_list) - species_codes_sub['american_english_name'].isin(species_filter_list).sum()"
   ]
  },
  {
   "cell_type": "markdown",
   "id": "0ecf4a45",
   "metadata": {},
   "source": [
    "### Now that the filter for the filter filter has been filtered and the filtered filter filter has been filtered, the next step is to create the final row filter."
   ]
  },
  {
   "cell_type": "code",
   "execution_count": 42,
   "id": "2caf8bae-d060-4392-8bf1-297d7d7023ff",
   "metadata": {},
   "outputs": [
    {
     "data": {
      "text/plain": [
       "['ariwoo', 'astfly', 'bewwre', 'bewwre3', 'bewwre1']"
      ]
     },
     "execution_count": 42,
     "metadata": {},
     "output_type": "execute_result"
    }
   ],
   "source": [
    "#create final row filter\n",
    "\n",
    "row_filter = species_codes_sub_filtered.species_code.to_list()\n",
    "\n",
    "row_filter[:5]"
   ]
  },
  {
   "cell_type": "markdown",
   "id": "5ec65666",
   "metadata": {},
   "source": [
    "---\n",
    "## Creating the initial working dataset\n",
    "Now that the columns from the raw datasets have been chosen and the row filter has been created, the task of building a single initial working dataset can be tackled."
   ]
  },
  {
   "cell_type": "code",
   "execution_count": 51,
   "id": "5800e78b",
   "metadata": {
    "scrolled": true
   },
   "outputs": [
    {
     "data": {
      "text/html": [
       "<div>\n",
       "<style scoped>\n",
       "    .dataframe tbody tr th:only-of-type {\n",
       "        vertical-align: middle;\n",
       "    }\n",
       "\n",
       "    .dataframe tbody tr th {\n",
       "        vertical-align: top;\n",
       "    }\n",
       "\n",
       "    .dataframe thead th {\n",
       "        text-align: right;\n",
       "    }\n",
       "</style>\n",
       "<table border=\"1\" class=\"dataframe\">\n",
       "  <thead>\n",
       "    <tr style=\"text-align: right;\">\n",
       "      <th></th>\n",
       "      <th>SUBNATIONAL1_CODE</th>\n",
       "      <th>Year</th>\n",
       "      <th>SPECIES_CODE</th>\n",
       "      <th>HOW_MANY</th>\n",
       "    </tr>\n",
       "  </thead>\n",
       "  <tbody>\n",
       "    <tr>\n",
       "      <th>0</th>\n",
       "      <td>US-MI</td>\n",
       "      <td>1992</td>\n",
       "      <td>houfin</td>\n",
       "      <td>4.0</td>\n",
       "    </tr>\n",
       "    <tr>\n",
       "      <th>1</th>\n",
       "      <td>US-MI</td>\n",
       "      <td>1992</td>\n",
       "      <td>houspa</td>\n",
       "      <td>26.0</td>\n",
       "    </tr>\n",
       "    <tr>\n",
       "      <th>2</th>\n",
       "      <td>US-MI</td>\n",
       "      <td>1992</td>\n",
       "      <td>eursta</td>\n",
       "      <td>35.0</td>\n",
       "    </tr>\n",
       "    <tr>\n",
       "      <th>3</th>\n",
       "      <td>US-MI</td>\n",
       "      <td>1992</td>\n",
       "      <td>bkcchi</td>\n",
       "      <td>1.0</td>\n",
       "    </tr>\n",
       "    <tr>\n",
       "      <th>4</th>\n",
       "      <td>US-MI</td>\n",
       "      <td>1992</td>\n",
       "      <td>dowwoo</td>\n",
       "      <td>1.0</td>\n",
       "    </tr>\n",
       "  </tbody>\n",
       "</table>\n",
       "</div>"
      ],
      "text/plain": [
       "  SUBNATIONAL1_CODE  Year SPECIES_CODE  HOW_MANY\n",
       "0             US-MI  1992       houfin       4.0\n",
       "1             US-MI  1992       houspa      26.0\n",
       "2             US-MI  1992       eursta      35.0\n",
       "3             US-MI  1992       bkcchi       1.0\n",
       "4             US-MI  1992       dowwoo       1.0"
      ]
     },
     "execution_count": 51,
     "metadata": {},
     "output_type": "execute_result"
    }
   ],
   "source": [
    "# Concatenate all datasets with filtered columns and rows\n",
    "\n",
    "files = glob.glob('bird_datasets/Project FeederWatch/all_years/PFW_all_*.csv', recursive = True)\n",
    "\n",
    "\n",
    "df_list = []\n",
    "for filename in files:\n",
    "  file = pd.read_csv(filename, usecols = preview_trimmed_columns)\n",
    "  data = file.loc[file['SPECIES_CODE'].isin(row_filter)]\n",
    "  df_list.append(data)\n",
    "\n",
    "  \n",
    "\n",
    "birds_main_initial = pd.concat(df_list)\n",
    "birds_main_initial.reset_index(drop = True, inplace = True)\n",
    "birds_main_initial.head()"
   ]
  },
  {
   "cell_type": "markdown",
   "id": "1b20cff5-0440-4fb7-b3f1-50f21505f4fd",
   "metadata": {},
   "source": [
    "---\n",
    "### Inspecting the new dataframe"
   ]
  },
  {
   "cell_type": "code",
   "execution_count": 52,
   "id": "96fa8863-4ca8-45ca-9e31-8bae59ae7bf6",
   "metadata": {},
   "outputs": [
    {
     "name": "stdout",
     "output_type": "stream",
     "text": [
      "<class 'pandas.core.frame.DataFrame'>\n",
      "RangeIndex: 19832302 entries, 0 to 19832301\n",
      "Data columns (total 4 columns):\n",
      " #   Column             Non-Null Count     Dtype  \n",
      "---  ------             --------------     -----  \n",
      " 0   SUBNATIONAL1_CODE  19832302 non-null  object \n",
      " 1   Year               19832302 non-null  int64  \n",
      " 2   SPECIES_CODE       19832302 non-null  object \n",
      " 3   HOW_MANY           19832302 non-null  float64\n",
      "dtypes: float64(1), int64(1), object(2)\n",
      "memory usage: 605.2+ MB\n"
     ]
    }
   ],
   "source": [
    "birds_main_initial.info(show_counts = True)"
   ]
  },
  {
   "cell_type": "code",
   "execution_count": 54,
   "id": "f55bdefc-34b8-4321-a914-46a584e64d2d",
   "metadata": {},
   "outputs": [
    {
     "data": {
      "text/plain": [
       "0"
      ]
     },
     "execution_count": 54,
     "metadata": {},
     "output_type": "execute_result"
    }
   ],
   "source": [
    "# check row filter functionality\n",
    "\n",
    "birds_main_initial['SPECIES_CODE'].nunique() - len(row_filter)"
   ]
  },
  {
   "cell_type": "code",
   "execution_count": 76,
   "id": "757e92f1",
   "metadata": {},
   "outputs": [
    {
     "data": {
      "text/plain": [
       "array([1987, 1988, 1989, 1990, 1991, 1992, 1993, 1994, 1995, 1996, 1997,\n",
       "       1998, 1999, 2000, 2001, 2002, 2003, 2004, 2005, 2006, 2007, 2008,\n",
       "       2009, 2010, 2011, 2012, 2013, 2014, 2015, 2016, 2017, 2018, 2019,\n",
       "       2020, 2021, 2022, 2023, 2024], dtype=int64)"
      ]
     },
     "execution_count": 76,
     "metadata": {},
     "output_type": "execute_result"
    }
   ],
   "source": [
    "#check included years\n",
    "\n",
    "years = birds_main_initial['Year'].unique()\n",
    "years_sorted = years.sort()\n",
    "years"
   ]
  },
  {
   "cell_type": "code",
   "execution_count": 77,
   "id": "06f1877c",
   "metadata": {},
   "outputs": [
    {
     "name": "stdout",
     "output_type": "stream",
     "text": [
      "<class 'pandas.core.frame.DataFrame'>\n",
      "RangeIndex: 19832302 entries, 0 to 19832301\n",
      "Data columns (total 4 columns):\n",
      " #   Column             Non-Null Count     Dtype  \n",
      "---  ------             --------------     -----  \n",
      " 0   SUBNATIONAL1_CODE  19832302 non-null  object \n",
      " 1   YEAR               19832302 non-null  int64  \n",
      " 2   SPECIES_CODE       19832302 non-null  object \n",
      " 3   HOW_MANY           19832302 non-null  float64\n",
      "dtypes: float64(1), int64(1), object(2)\n",
      "memory usage: 605.2+ MB\n"
     ]
    }
   ],
   "source": [
    "# rename Year for consistency\n",
    "\n",
    "birds_main_initial.columns = ['SUBNATIONAL1_CODE', 'YEAR', 'SPECIES_CODE', 'HOW_MANY']\n",
    "\n",
    "birds_main_initial.info(show_counts = True)"
   ]
  },
  {
   "cell_type": "code",
   "execution_count": 79,
   "id": "adcca0aa",
   "metadata": {},
   "outputs": [
    {
     "data": {
      "text/html": [
       "<div>\n",
       "<style scoped>\n",
       "    .dataframe tbody tr th:only-of-type {\n",
       "        vertical-align: middle;\n",
       "    }\n",
       "\n",
       "    .dataframe tbody tr th {\n",
       "        vertical-align: top;\n",
       "    }\n",
       "\n",
       "    .dataframe thead th {\n",
       "        text-align: right;\n",
       "    }\n",
       "</style>\n",
       "<table border=\"1\" class=\"dataframe\">\n",
       "  <thead>\n",
       "    <tr style=\"text-align: right;\">\n",
       "      <th></th>\n",
       "      <th>Total Missing</th>\n",
       "      <th>Percent</th>\n",
       "    </tr>\n",
       "  </thead>\n",
       "  <tbody>\n",
       "    <tr>\n",
       "      <th>SUBNATIONAL1_CODE</th>\n",
       "      <td>0</td>\n",
       "      <td>0.0</td>\n",
       "    </tr>\n",
       "    <tr>\n",
       "      <th>YEAR</th>\n",
       "      <td>0</td>\n",
       "      <td>0.0</td>\n",
       "    </tr>\n",
       "    <tr>\n",
       "      <th>SPECIES_CODE</th>\n",
       "      <td>0</td>\n",
       "      <td>0.0</td>\n",
       "    </tr>\n",
       "    <tr>\n",
       "      <th>HOW_MANY</th>\n",
       "      <td>0</td>\n",
       "      <td>0.0</td>\n",
       "    </tr>\n",
       "  </tbody>\n",
       "</table>\n",
       "</div>"
      ],
      "text/plain": [
       "                   Total Missing  Percent\n",
       "SUBNATIONAL1_CODE              0      0.0\n",
       "YEAR                           0      0.0\n",
       "SPECIES_CODE                   0      0.0\n",
       "HOW_MANY                       0      0.0"
      ]
     },
     "execution_count": 79,
     "metadata": {},
     "output_type": "execute_result"
    }
   ],
   "source": [
    "# check for missing data\n",
    "\n",
    "total = birds_main_initial.isnull().sum().sort_values(ascending=False)\n",
    "percent = (birds_main_initial.isnull().sum()/birds_main_initial.isnull().count()).sort_values(ascending=False)\n",
    "missing_data = pd.concat([total, percent], axis=1, keys=['Total Missing', 'Percent'])\n",
    "missing_data"
   ]
  },
  {
   "cell_type": "markdown",
   "id": "d1c1be02-3b0c-4744-b881-30370d9b90f8",
   "metadata": {},
   "source": [
    "---\n",
    "### Creating the COMMON_NAME column\n",
    "Most people aren't familiar with the 6-character [BBL alpha codes](https://www.birdpop.org/pages/birdSpeciesCodes.php) that represent the bird species in the existing table. A column for what we non-ornithologists call these birds would be most helpful."
   ]
  },
  {
   "cell_type": "markdown",
   "id": "111d3bbd",
   "metadata": {},
   "source": [
    "### Creating a decoder\n",
    "Before this new column can be created, there has to be a way to \"decode\" the **SPECIES_CODE** column. This is where the custom **species_codes_sub_filtered** dataset comes into play for its second task. This time it's used to create a dictionary to serve as a decoder."
   ]
  },
  {
   "cell_type": "code",
   "execution_count": 80,
   "id": "bacb330d",
   "metadata": {},
   "outputs": [
    {
     "data": {
      "text/plain": [
       "[('ariwoo', 'Arizona Woodpecker'),\n",
       " ('astfly', 'Ash-throated Flycatcher'),\n",
       " ('bewwre', \"Bewick's Wren\"),\n",
       " ('bewwre3', \"Bewick's Wren (bewickii)\"),\n",
       " ('bewwre1', \"Bewick's Wren (spilurus Group)\"),\n",
       " ('bkbwoo', 'Black-backed Woodpecker'),\n",
       " ('bkcchi', 'Black-capped Chickadee'),\n",
       " ('borchi2', 'Boreal Chickadee'),\n",
       " ('britit', 'Bridled Titmouse'),\n",
       " ('brncre', 'Brown Creeper')]"
      ]
     },
     "execution_count": 80,
     "metadata": {},
     "output_type": "execute_result"
    }
   ],
   "source": [
    "# create species name decoder dictionary\n",
    "\n",
    "decoder = dict(zip(species_codes_sub_filtered['species_code'],species_codes_sub_filtered['american_english_name']))\n",
    "\n",
    "list(decoder.items())[:10]"
   ]
  },
  {
   "cell_type": "markdown",
   "id": "a4359930",
   "metadata": {},
   "source": [
    "### Now to create and populate the COMMON_NAME column"
   ]
  },
  {
   "cell_type": "code",
   "execution_count": 81,
   "id": "763ae1cb",
   "metadata": {
    "scrolled": true
   },
   "outputs": [
    {
     "data": {
      "text/html": [
       "<div>\n",
       "<style scoped>\n",
       "    .dataframe tbody tr th:only-of-type {\n",
       "        vertical-align: middle;\n",
       "    }\n",
       "\n",
       "    .dataframe tbody tr th {\n",
       "        vertical-align: top;\n",
       "    }\n",
       "\n",
       "    .dataframe thead th {\n",
       "        text-align: right;\n",
       "    }\n",
       "</style>\n",
       "<table border=\"1\" class=\"dataframe\">\n",
       "  <thead>\n",
       "    <tr style=\"text-align: right;\">\n",
       "      <th></th>\n",
       "      <th>SUBNATIONAL1_CODE</th>\n",
       "      <th>YEAR</th>\n",
       "      <th>SPECIES_CODE</th>\n",
       "      <th>HOW_MANY</th>\n",
       "      <th>COMMON_NAME</th>\n",
       "    </tr>\n",
       "  </thead>\n",
       "  <tbody>\n",
       "    <tr>\n",
       "      <th>0</th>\n",
       "      <td>US-MI</td>\n",
       "      <td>1992</td>\n",
       "      <td>houfin</td>\n",
       "      <td>4.0</td>\n",
       "      <td>House Finch</td>\n",
       "    </tr>\n",
       "    <tr>\n",
       "      <th>1</th>\n",
       "      <td>US-MI</td>\n",
       "      <td>1992</td>\n",
       "      <td>houspa</td>\n",
       "      <td>26.0</td>\n",
       "      <td>House Sparrow</td>\n",
       "    </tr>\n",
       "    <tr>\n",
       "      <th>2</th>\n",
       "      <td>US-MI</td>\n",
       "      <td>1992</td>\n",
       "      <td>eursta</td>\n",
       "      <td>35.0</td>\n",
       "      <td>European Starling</td>\n",
       "    </tr>\n",
       "    <tr>\n",
       "      <th>3</th>\n",
       "      <td>US-MI</td>\n",
       "      <td>1992</td>\n",
       "      <td>bkcchi</td>\n",
       "      <td>1.0</td>\n",
       "      <td>Black-capped Chickadee</td>\n",
       "    </tr>\n",
       "    <tr>\n",
       "      <th>4</th>\n",
       "      <td>US-MI</td>\n",
       "      <td>1992</td>\n",
       "      <td>dowwoo</td>\n",
       "      <td>1.0</td>\n",
       "      <td>Downy Woodpecker</td>\n",
       "    </tr>\n",
       "  </tbody>\n",
       "</table>\n",
       "</div>"
      ],
      "text/plain": [
       "  SUBNATIONAL1_CODE  YEAR SPECIES_CODE  HOW_MANY             COMMON_NAME\n",
       "0             US-MI  1992       houfin       4.0             House Finch\n",
       "1             US-MI  1992       houspa      26.0           House Sparrow\n",
       "2             US-MI  1992       eursta      35.0       European Starling\n",
       "3             US-MI  1992       bkcchi       1.0  Black-capped Chickadee\n",
       "4             US-MI  1992       dowwoo       1.0        Downy Woodpecker"
      ]
     },
     "execution_count": 81,
     "metadata": {},
     "output_type": "execute_result"
    }
   ],
   "source": [
    "# populate new column\n",
    "\n",
    "new_col = []\n",
    "\n",
    "for item in birds_main_initial['SPECIES_CODE']:\n",
    "    for key in decoder.keys():\n",
    "        if item == key:\n",
    "            new_col.append(decoder[item])\n",
    "       \n",
    "            \n",
    "birds_main_initial['COMMON_NAME'] = new_col\n",
    "\n",
    "birds_main_initial.head()"
   ]
  },
  {
   "cell_type": "markdown",
   "id": "69987962",
   "metadata": {},
   "source": [
    "### Keeping it all together\n",
    "Moving **SPECIES_CODE** and **COMMON_NAME** side-by-side, for easier reading and improved comprehension."
   ]
  },
  {
   "cell_type": "code",
   "execution_count": 82,
   "id": "90f37d71",
   "metadata": {},
   "outputs": [
    {
     "data": {
      "text/html": [
       "<div>\n",
       "<style scoped>\n",
       "    .dataframe tbody tr th:only-of-type {\n",
       "        vertical-align: middle;\n",
       "    }\n",
       "\n",
       "    .dataframe tbody tr th {\n",
       "        vertical-align: top;\n",
       "    }\n",
       "\n",
       "    .dataframe thead th {\n",
       "        text-align: right;\n",
       "    }\n",
       "</style>\n",
       "<table border=\"1\" class=\"dataframe\">\n",
       "  <thead>\n",
       "    <tr style=\"text-align: right;\">\n",
       "      <th></th>\n",
       "      <th>SUBNATIONAL1_CODE</th>\n",
       "      <th>YEAR</th>\n",
       "      <th>SPECIES_CODE</th>\n",
       "      <th>COMMON_NAME</th>\n",
       "      <th>HOW_MANY</th>\n",
       "    </tr>\n",
       "  </thead>\n",
       "  <tbody>\n",
       "    <tr>\n",
       "      <th>0</th>\n",
       "      <td>US-MI</td>\n",
       "      <td>1992</td>\n",
       "      <td>houfin</td>\n",
       "      <td>House Finch</td>\n",
       "      <td>4.0</td>\n",
       "    </tr>\n",
       "    <tr>\n",
       "      <th>1</th>\n",
       "      <td>US-MI</td>\n",
       "      <td>1992</td>\n",
       "      <td>houspa</td>\n",
       "      <td>House Sparrow</td>\n",
       "      <td>26.0</td>\n",
       "    </tr>\n",
       "    <tr>\n",
       "      <th>2</th>\n",
       "      <td>US-MI</td>\n",
       "      <td>1992</td>\n",
       "      <td>eursta</td>\n",
       "      <td>European Starling</td>\n",
       "      <td>35.0</td>\n",
       "    </tr>\n",
       "    <tr>\n",
       "      <th>3</th>\n",
       "      <td>US-MI</td>\n",
       "      <td>1992</td>\n",
       "      <td>bkcchi</td>\n",
       "      <td>Black-capped Chickadee</td>\n",
       "      <td>1.0</td>\n",
       "    </tr>\n",
       "    <tr>\n",
       "      <th>4</th>\n",
       "      <td>US-MI</td>\n",
       "      <td>1992</td>\n",
       "      <td>dowwoo</td>\n",
       "      <td>Downy Woodpecker</td>\n",
       "      <td>1.0</td>\n",
       "    </tr>\n",
       "  </tbody>\n",
       "</table>\n",
       "</div>"
      ],
      "text/plain": [
       "  SUBNATIONAL1_CODE  YEAR SPECIES_CODE             COMMON_NAME  HOW_MANY\n",
       "0             US-MI  1992       houfin             House Finch       4.0\n",
       "1             US-MI  1992       houspa           House Sparrow      26.0\n",
       "2             US-MI  1992       eursta       European Starling      35.0\n",
       "3             US-MI  1992       bkcchi  Black-capped Chickadee       1.0\n",
       "4             US-MI  1992       dowwoo        Downy Woodpecker       1.0"
      ]
     },
     "execution_count": 82,
     "metadata": {},
     "output_type": "execute_result"
    }
   ],
   "source": [
    "# reorder columns\n",
    "\n",
    "birds_main_initial_v2 = birds_main_initial[['SUBNATIONAL1_CODE', 'YEAR',\n",
    "       'SPECIES_CODE', 'COMMON_NAME', 'HOW_MANY']]\n",
    "\n",
    "birds_main_initial_v2.head()"
   ]
  },
  {
   "cell_type": "code",
   "execution_count": 83,
   "id": "ec815b84",
   "metadata": {},
   "outputs": [
    {
     "name": "stdout",
     "output_type": "stream",
     "text": [
      "<class 'pandas.core.frame.DataFrame'>\n",
      "RangeIndex: 19832302 entries, 0 to 19832301\n",
      "Data columns (total 5 columns):\n",
      " #   Column             Non-Null Count     Dtype  \n",
      "---  ------             --------------     -----  \n",
      " 0   SUBNATIONAL1_CODE  19832302 non-null  object \n",
      " 1   YEAR               19832302 non-null  int64  \n",
      " 2   SPECIES_CODE       19832302 non-null  object \n",
      " 3   COMMON_NAME        19832302 non-null  object \n",
      " 4   HOW_MANY           19832302 non-null  float64\n",
      "dtypes: float64(1), int64(1), object(3)\n",
      "memory usage: 756.5+ MB\n"
     ]
    }
   ],
   "source": [
    "birds_main_initial_v2.info(show_counts=True)"
   ]
  },
  {
   "cell_type": "markdown",
   "id": "3bd4cc36",
   "metadata": {},
   "source": [
    "---\n",
    "## Creating an easier-to-handle file for further work\n",
    "To avoid having to run those cells that have done so much heavy lifting already, creating a smaller working \"checkpoint\" file will provide a more efficient starting point for further work on this dataset. It also preserves the current dataset for future projects using similar data."
   ]
  },
  {
   "cell_type": "code",
   "execution_count": 25,
   "id": "073b2c9f-5245-49a6-99d3-a0dc7a218a89",
   "metadata": {},
   "outputs": [],
   "source": [
    "# create a checkpoint .csv file\n",
    "\n",
    "birds_main_initial_v2.to_csv('inv_birds_checkpoint_1.csv', index = None, header=True)"
   ]
  },
  {
   "cell_type": "markdown",
   "id": "292e744d-e689-4db8-a73d-4058c4a957d8",
   "metadata": {},
   "source": [
    "---\n",
    "## A fresh start\n",
    "Having a smaller file to work with which contains only the essentials with will improve efficiency.\n",
    "\n",
    "### Load checkpoint_1.csv"
   ]
  },
  {
   "cell_type": "code",
   "execution_count": 119,
   "id": "fe67ecb1-81ba-46ed-8639-56698173c723",
   "metadata": {},
   "outputs": [
    {
     "data": {
      "text/html": [
       "<div>\n",
       "<style scoped>\n",
       "    .dataframe tbody tr th:only-of-type {\n",
       "        vertical-align: middle;\n",
       "    }\n",
       "\n",
       "    .dataframe tbody tr th {\n",
       "        vertical-align: top;\n",
       "    }\n",
       "\n",
       "    .dataframe thead th {\n",
       "        text-align: right;\n",
       "    }\n",
       "</style>\n",
       "<table border=\"1\" class=\"dataframe\">\n",
       "  <thead>\n",
       "    <tr style=\"text-align: right;\">\n",
       "      <th></th>\n",
       "      <th>SUBNATIONAL1_CODE</th>\n",
       "      <th>YEAR</th>\n",
       "      <th>SPECIES_CODE</th>\n",
       "      <th>COMMON_NAME</th>\n",
       "      <th>HOW_MANY</th>\n",
       "    </tr>\n",
       "  </thead>\n",
       "  <tbody>\n",
       "    <tr>\n",
       "      <th>0</th>\n",
       "      <td>US-MI</td>\n",
       "      <td>1992</td>\n",
       "      <td>houfin</td>\n",
       "      <td>House Finch</td>\n",
       "      <td>4.0</td>\n",
       "    </tr>\n",
       "    <tr>\n",
       "      <th>1</th>\n",
       "      <td>US-MI</td>\n",
       "      <td>1992</td>\n",
       "      <td>houspa</td>\n",
       "      <td>House Sparrow</td>\n",
       "      <td>26.0</td>\n",
       "    </tr>\n",
       "    <tr>\n",
       "      <th>2</th>\n",
       "      <td>US-MI</td>\n",
       "      <td>1992</td>\n",
       "      <td>eursta</td>\n",
       "      <td>European Starling</td>\n",
       "      <td>35.0</td>\n",
       "    </tr>\n",
       "    <tr>\n",
       "      <th>3</th>\n",
       "      <td>US-MI</td>\n",
       "      <td>1992</td>\n",
       "      <td>bkcchi</td>\n",
       "      <td>Black-capped Chickadee</td>\n",
       "      <td>1.0</td>\n",
       "    </tr>\n",
       "    <tr>\n",
       "      <th>4</th>\n",
       "      <td>US-MI</td>\n",
       "      <td>1992</td>\n",
       "      <td>dowwoo</td>\n",
       "      <td>Downy Woodpecker</td>\n",
       "      <td>1.0</td>\n",
       "    </tr>\n",
       "  </tbody>\n",
       "</table>\n",
       "</div>"
      ],
      "text/plain": [
       "  SUBNATIONAL1_CODE  YEAR SPECIES_CODE             COMMON_NAME  HOW_MANY\n",
       "0             US-MI  1992       houfin             House Finch       4.0\n",
       "1             US-MI  1992       houspa           House Sparrow      26.0\n",
       "2             US-MI  1992       eursta       European Starling      35.0\n",
       "3             US-MI  1992       bkcchi  Black-capped Chickadee       1.0\n",
       "4             US-MI  1992       dowwoo        Downy Woodpecker       1.0"
      ]
     },
     "execution_count": 119,
     "metadata": {},
     "output_type": "execute_result"
    }
   ],
   "source": [
    "# load .csv from checkpoint\n",
    "\n",
    "birds_main_secondary = pd.read_csv('inv_birds_checkpoint_1.csv')\n",
    "birds_main_secondary.head()"
   ]
  },
  {
   "cell_type": "code",
   "execution_count": 120,
   "id": "8a47dd7f-7e01-4171-a4f9-d1d663e5d611",
   "metadata": {},
   "outputs": [
    {
     "name": "stdout",
     "output_type": "stream",
     "text": [
      "<class 'pandas.core.frame.DataFrame'>\n",
      "RangeIndex: 19832302 entries, 0 to 19832301\n",
      "Data columns (total 5 columns):\n",
      " #   Column             Non-Null Count     Dtype  \n",
      "---  ------             --------------     -----  \n",
      " 0   SUBNATIONAL1_CODE  19832302 non-null  object \n",
      " 1   YEAR               19832302 non-null  int64  \n",
      " 2   SPECIES_CODE       19832302 non-null  object \n",
      " 3   COMMON_NAME        19832302 non-null  object \n",
      " 4   HOW_MANY           19832302 non-null  float64\n",
      "dtypes: float64(1), int64(1), object(3)\n",
      "memory usage: 756.5+ MB\n"
     ]
    }
   ],
   "source": [
    "birds_main_secondary.info(show_counts = True)"
   ]
  },
  {
   "cell_type": "markdown",
   "id": "778284c0",
   "metadata": {},
   "source": [
    "### Further reduction in file size is needed\n",
    "In its current state, this file contains nearly 20 million observations and has a file size of over 756 MB. GitHub won't be having that. This would be a good time to aggregate values of the **HOW_MANY** column."
   ]
  },
  {
   "cell_type": "code",
   "execution_count": 121,
   "id": "cb417885",
   "metadata": {},
   "outputs": [
    {
     "data": {
      "text/html": [
       "<div>\n",
       "<style scoped>\n",
       "    .dataframe tbody tr th:only-of-type {\n",
       "        vertical-align: middle;\n",
       "    }\n",
       "\n",
       "    .dataframe tbody tr th {\n",
       "        vertical-align: top;\n",
       "    }\n",
       "\n",
       "    .dataframe thead th {\n",
       "        text-align: right;\n",
       "    }\n",
       "</style>\n",
       "<table border=\"1\" class=\"dataframe\">\n",
       "  <thead>\n",
       "    <tr style=\"text-align: right;\">\n",
       "      <th></th>\n",
       "      <th>SUBNATIONAL1_CODE</th>\n",
       "      <th>YEAR</th>\n",
       "      <th>SPECIES_CODE</th>\n",
       "      <th>COMMON_NAME</th>\n",
       "      <th>TOTAL_COUNTED</th>\n",
       "      <th>AVERAGE_COUNTED</th>\n",
       "    </tr>\n",
       "  </thead>\n",
       "  <tbody>\n",
       "    <tr>\n",
       "      <th>0</th>\n",
       "      <td>CA-AB</td>\n",
       "      <td>1988</td>\n",
       "      <td>bkcchi</td>\n",
       "      <td>Black-capped Chickadee</td>\n",
       "      <td>301.0</td>\n",
       "      <td>6.688889</td>\n",
       "    </tr>\n",
       "    <tr>\n",
       "      <th>1</th>\n",
       "      <td>CA-AB</td>\n",
       "      <td>1988</td>\n",
       "      <td>borchi2</td>\n",
       "      <td>Boreal Chickadee</td>\n",
       "      <td>11.0</td>\n",
       "      <td>2.200000</td>\n",
       "    </tr>\n",
       "    <tr>\n",
       "      <th>2</th>\n",
       "      <td>CA-AB</td>\n",
       "      <td>1988</td>\n",
       "      <td>brncre</td>\n",
       "      <td>Brown Creeper</td>\n",
       "      <td>1.0</td>\n",
       "      <td>1.000000</td>\n",
       "    </tr>\n",
       "    <tr>\n",
       "      <th>3</th>\n",
       "      <td>CA-AB</td>\n",
       "      <td>1988</td>\n",
       "      <td>chbchi</td>\n",
       "      <td>Chestnut-backed Chickadee</td>\n",
       "      <td>22.0</td>\n",
       "      <td>22.000000</td>\n",
       "    </tr>\n",
       "    <tr>\n",
       "      <th>4</th>\n",
       "      <td>CA-AB</td>\n",
       "      <td>1988</td>\n",
       "      <td>dowwoo</td>\n",
       "      <td>Downy Woodpecker</td>\n",
       "      <td>39.0</td>\n",
       "      <td>1.300000</td>\n",
       "    </tr>\n",
       "  </tbody>\n",
       "</table>\n",
       "</div>"
      ],
      "text/plain": [
       "  SUBNATIONAL1_CODE  YEAR SPECIES_CODE                COMMON_NAME  \\\n",
       "0             CA-AB  1988       bkcchi     Black-capped Chickadee   \n",
       "1             CA-AB  1988      borchi2           Boreal Chickadee   \n",
       "2             CA-AB  1988       brncre              Brown Creeper   \n",
       "3             CA-AB  1988       chbchi  Chestnut-backed Chickadee   \n",
       "4             CA-AB  1988       dowwoo           Downy Woodpecker   \n",
       "\n",
       "   TOTAL_COUNTED  AVERAGE_COUNTED  \n",
       "0          301.0         6.688889  \n",
       "1           11.0         2.200000  \n",
       "2            1.0         1.000000  \n",
       "3           22.0        22.000000  \n",
       "4           39.0         1.300000  "
      ]
     },
     "execution_count": 121,
     "metadata": {},
     "output_type": "execute_result"
    }
   ],
   "source": [
    "# add totals and averages\n",
    "birds_main_sec_2 = birds_main_secondary.groupby(['SUBNATIONAL1_CODE', 'YEAR', 'SPECIES_CODE', 'COMMON_NAME']).agg(\n",
    "    TOTAL_COUNTED = ('HOW_MANY', 'sum'), AVERAGE_COUNTED = ('HOW_MANY', 'mean')).reset_index()\n",
    "\n",
    "birds_main_sec_2.head()"
   ]
  },
  {
   "cell_type": "markdown",
   "id": "7bb8d692-3cf2-4cd3-9773-cf48539c88db",
   "metadata": {},
   "source": [
    "---\n",
    "### Splitting SUBNATIONAL1_CODE into separate columns: COUNTRY and STATE/PROVINCE\n",
    "For consideration of both analysis and eye appeal, this geographical data would be better presented as separate columns."
   ]
  },
  {
   "cell_type": "markdown",
   "id": "6fe6f233-e34d-4c59-99f4-f04fde65770c",
   "metadata": {},
   "source": [
    "### A preliminary check for invalid codes"
   ]
  },
  {
   "cell_type": "code",
   "execution_count": 122,
   "id": "2eb494e3-7aa4-419c-8376-459c19dfb6f7",
   "metadata": {},
   "outputs": [
    {
     "data": {
      "text/plain": [
       "array(['CA-AB', 'CA-BC', 'CA-MB', 'CA-NB', 'CA-NL', 'CA-NS', 'CA-NT',\n",
       "       'CA-ON', 'CA-PE', 'CA-QC', 'CA-SK', 'CA-YT', 'MN-061', 'MX-JAL',\n",
       "       'MX-NAY', 'PM-', 'US-AK', 'US-AL', 'US-AR', 'US-AZ', 'US-CA',\n",
       "       'US-CO', 'US-CT', 'US-DC', 'US-DE', 'US-FL', 'US-GA', 'US-HI',\n",
       "       'US-IA', 'US-ID', 'US-IL', 'US-IN', 'US-KS', 'US-KY', 'US-LA',\n",
       "       'US-MA', 'US-MD', 'US-ME', 'US-MI', 'US-MN', 'US-MO', 'US-MS',\n",
       "       'US-MT', 'US-NC', 'US-ND', 'US-NE', 'US-NH', 'US-NJ', 'US-NM',\n",
       "       'US-NV', 'US-NY', 'US-OH', 'US-OK', 'US-OR', 'US-PA', 'US-RI',\n",
       "       'US-SC', 'US-SD', 'US-TN', 'US-TX', 'US-UT', 'US-VA', 'US-VT',\n",
       "       'US-WA', 'US-WI', 'US-WV', 'US-WY', 'XX-'], dtype=object)"
      ]
     },
     "execution_count": 122,
     "metadata": {},
     "output_type": "execute_result"
    }
   ],
   "source": [
    "birds_main_sec_2['SUBNATIONAL1_CODE'].unique()"
   ]
  },
  {
   "cell_type": "markdown",
   "id": "5ba0f90a-c790-4f5f-9436-75e3a4100727",
   "metadata": {},
   "source": [
    "##### 'MN-061' and 'XX-' are invalid. 'PM-' is Saint Pierre and Miquelon."
   ]
  },
  {
   "cell_type": "markdown",
   "id": "79f71e7d-cf68-4676-84e9-9b75e42fc5ed",
   "metadata": {},
   "source": [
    "#### First to fix 'PM-', and then remove rows with invalid codes."
   ]
  },
  {
   "cell_type": "code",
   "execution_count": 123,
   "id": "365d9286-9796-48c2-86b2-63b61ed5bfe9",
   "metadata": {},
   "outputs": [],
   "source": [
    "birds_main_sec_2['SUBNATIONAL1_CODE'] = birds_main_sec_2['SUBNATIONAL1_CODE'].replace('PM-', 'PM-PM', regex=True)"
   ]
  },
  {
   "cell_type": "code",
   "execution_count": 124,
   "id": "40a9b01e-e278-4573-bc49-295d21057c4f",
   "metadata": {},
   "outputs": [
    {
     "data": {
      "text/plain": [
       "array(['CA-AB', 'CA-BC', 'CA-MB', 'CA-NB', 'CA-NL', 'CA-NS', 'CA-NT',\n",
       "       'CA-ON', 'CA-PE', 'CA-QC', 'CA-SK', 'CA-YT', 'MX-JAL', 'MX-NAY',\n",
       "       'PM-PM', 'US-AK', 'US-AL', 'US-AR', 'US-AZ', 'US-CA', 'US-CO',\n",
       "       'US-CT', 'US-DC', 'US-DE', 'US-FL', 'US-GA', 'US-HI', 'US-IA',\n",
       "       'US-ID', 'US-IL', 'US-IN', 'US-KS', 'US-KY', 'US-LA', 'US-MA',\n",
       "       'US-MD', 'US-ME', 'US-MI', 'US-MN', 'US-MO', 'US-MS', 'US-MT',\n",
       "       'US-NC', 'US-ND', 'US-NE', 'US-NH', 'US-NJ', 'US-NM', 'US-NV',\n",
       "       'US-NY', 'US-OH', 'US-OK', 'US-OR', 'US-PA', 'US-RI', 'US-SC',\n",
       "       'US-SD', 'US-TN', 'US-TX', 'US-UT', 'US-VA', 'US-VT', 'US-WA',\n",
       "       'US-WI', 'US-WV', 'US-WY'], dtype=object)"
      ]
     },
     "execution_count": 124,
     "metadata": {},
     "output_type": "execute_result"
    }
   ],
   "source": [
    "birds_main_sec_2 = birds_main_sec_2.drop(birds_main_sec_2[birds_main_sec_2['SUBNATIONAL1_CODE'] == 'MN-061'].index)\n",
    "birds_main_sec_2 = birds_main_sec_2.drop(birds_main_sec_2[birds_main_sec_2['SUBNATIONAL1_CODE'] == 'XX-'].index)\n",
    "\n",
    "birds_main_sec_2['SUBNATIONAL1_CODE'].unique()"
   ]
  },
  {
   "cell_type": "markdown",
   "id": "3dc6a75f-5416-44df-b389-592dad539c8b",
   "metadata": {},
   "source": [
    "### Performing the split"
   ]
  },
  {
   "cell_type": "code",
   "execution_count": 125,
   "id": "5e3b1160",
   "metadata": {},
   "outputs": [
    {
     "data": {
      "text/html": [
       "<div>\n",
       "<style scoped>\n",
       "    .dataframe tbody tr th:only-of-type {\n",
       "        vertical-align: middle;\n",
       "    }\n",
       "\n",
       "    .dataframe tbody tr th {\n",
       "        vertical-align: top;\n",
       "    }\n",
       "\n",
       "    .dataframe thead th {\n",
       "        text-align: right;\n",
       "    }\n",
       "</style>\n",
       "<table border=\"1\" class=\"dataframe\">\n",
       "  <thead>\n",
       "    <tr style=\"text-align: right;\">\n",
       "      <th></th>\n",
       "      <th>SUBNATIONAL1_CODE</th>\n",
       "      <th>YEAR</th>\n",
       "      <th>SPECIES_CODE</th>\n",
       "      <th>COMMON_NAME</th>\n",
       "      <th>TOTAL_COUNTED</th>\n",
       "      <th>AVERAGE_COUNTED</th>\n",
       "      <th>COUNTRY</th>\n",
       "      <th>STATE/PROVINCE</th>\n",
       "    </tr>\n",
       "  </thead>\n",
       "  <tbody>\n",
       "    <tr>\n",
       "      <th>0</th>\n",
       "      <td>CA-AB</td>\n",
       "      <td>1988</td>\n",
       "      <td>bkcchi</td>\n",
       "      <td>Black-capped Chickadee</td>\n",
       "      <td>301.0</td>\n",
       "      <td>6.688889</td>\n",
       "      <td>CA</td>\n",
       "      <td>AB</td>\n",
       "    </tr>\n",
       "    <tr>\n",
       "      <th>1</th>\n",
       "      <td>CA-AB</td>\n",
       "      <td>1988</td>\n",
       "      <td>borchi2</td>\n",
       "      <td>Boreal Chickadee</td>\n",
       "      <td>11.0</td>\n",
       "      <td>2.200000</td>\n",
       "      <td>CA</td>\n",
       "      <td>AB</td>\n",
       "    </tr>\n",
       "    <tr>\n",
       "      <th>2</th>\n",
       "      <td>CA-AB</td>\n",
       "      <td>1988</td>\n",
       "      <td>brncre</td>\n",
       "      <td>Brown Creeper</td>\n",
       "      <td>1.0</td>\n",
       "      <td>1.000000</td>\n",
       "      <td>CA</td>\n",
       "      <td>AB</td>\n",
       "    </tr>\n",
       "    <tr>\n",
       "      <th>3</th>\n",
       "      <td>CA-AB</td>\n",
       "      <td>1988</td>\n",
       "      <td>chbchi</td>\n",
       "      <td>Chestnut-backed Chickadee</td>\n",
       "      <td>22.0</td>\n",
       "      <td>22.000000</td>\n",
       "      <td>CA</td>\n",
       "      <td>AB</td>\n",
       "    </tr>\n",
       "    <tr>\n",
       "      <th>4</th>\n",
       "      <td>CA-AB</td>\n",
       "      <td>1988</td>\n",
       "      <td>dowwoo</td>\n",
       "      <td>Downy Woodpecker</td>\n",
       "      <td>39.0</td>\n",
       "      <td>1.300000</td>\n",
       "      <td>CA</td>\n",
       "      <td>AB</td>\n",
       "    </tr>\n",
       "  </tbody>\n",
       "</table>\n",
       "</div>"
      ],
      "text/plain": [
       "  SUBNATIONAL1_CODE  YEAR SPECIES_CODE                COMMON_NAME  \\\n",
       "0             CA-AB  1988       bkcchi     Black-capped Chickadee   \n",
       "1             CA-AB  1988      borchi2           Boreal Chickadee   \n",
       "2             CA-AB  1988       brncre              Brown Creeper   \n",
       "3             CA-AB  1988       chbchi  Chestnut-backed Chickadee   \n",
       "4             CA-AB  1988       dowwoo           Downy Woodpecker   \n",
       "\n",
       "   TOTAL_COUNTED  AVERAGE_COUNTED COUNTRY STATE/PROVINCE  \n",
       "0          301.0         6.688889      CA             AB  \n",
       "1           11.0         2.200000      CA             AB  \n",
       "2            1.0         1.000000      CA             AB  \n",
       "3           22.0        22.000000      CA             AB  \n",
       "4           39.0         1.300000      CA             AB  "
      ]
     },
     "execution_count": 125,
     "metadata": {},
     "output_type": "execute_result"
    }
   ],
   "source": [
    "split = birds_main_sec_2['SUBNATIONAL1_CODE'].str.split('-')\n",
    "\n",
    "birds_main_sec_2['COUNTRY'] = split.str.get(0)\n",
    "birds_main_sec_2['STATE/PROVINCE'] = split.str.get(1)\n",
    "\n",
    "birds_main_sec_2.head()"
   ]
  },
  {
   "cell_type": "markdown",
   "id": "dcdea993-6323-427a-8e3a-c5c3c725c32b",
   "metadata": {},
   "source": [
    "### Checking the values"
   ]
  },
  {
   "cell_type": "code",
   "execution_count": 126,
   "id": "6ed443e5-1bad-4c0c-903f-255b21a29b34",
   "metadata": {},
   "outputs": [
    {
     "data": {
      "text/plain": [
       "array(['CA', 'MX', 'PM', 'US'], dtype=object)"
      ]
     },
     "execution_count": 126,
     "metadata": {},
     "output_type": "execute_result"
    }
   ],
   "source": [
    "birds_main_sec_2['COUNTRY'].unique()"
   ]
  },
  {
   "cell_type": "code",
   "execution_count": 127,
   "id": "33c9c10f-850a-4bb3-85db-3d3ce5a30e1d",
   "metadata": {},
   "outputs": [
    {
     "data": {
      "text/plain": [
       "array(['AB', 'AK', 'AL', 'AR', 'AZ', 'BC', 'CA', 'CO', 'CT', 'DC', 'DE',\n",
       "       'FL', 'GA', 'HI', 'IA', 'ID', 'IL', 'IN', 'JAL', 'KS', 'KY', 'LA',\n",
       "       'MA', 'MB', 'MD', 'ME', 'MI', 'MN', 'MO', 'MS', 'MT', 'NAY', 'NB',\n",
       "       'NC', 'ND', 'NE', 'NH', 'NJ', 'NL', 'NM', 'NS', 'NT', 'NV', 'NY',\n",
       "       'OH', 'OK', 'ON', 'OR', 'PA', 'PE', 'PM', 'QC', 'RI', 'SC', 'SD',\n",
       "       'SK', 'TN', 'TX', 'UT', 'VA', 'VT', 'WA', 'WI', 'WV', 'WY', 'YT'],\n",
       "      dtype=object)"
      ]
     },
     "execution_count": 127,
     "metadata": {},
     "output_type": "execute_result"
    }
   ],
   "source": [
    "states_list = birds_main_sec_2['STATE/PROVINCE'].unique()\n",
    "states_list.sort()\n",
    "states_list"
   ]
  },
  {
   "cell_type": "markdown",
   "id": "a025df30-586b-49fa-bc68-31b3ce6475f2",
   "metadata": {},
   "source": [
    "---\n",
    "### Adding the  binary column INVASIVE\n",
    "As the focus of this project is *invasive* cavity nesting birds, a variable to indicate that characteristic will be useful.  \n",
    "**1 = invasive, 0 = non-invasive**"
   ]
  },
  {
   "cell_type": "code",
   "execution_count": 128,
   "id": "c46489a5",
   "metadata": {},
   "outputs": [
    {
     "data": {
      "text/html": [
       "<div>\n",
       "<style scoped>\n",
       "    .dataframe tbody tr th:only-of-type {\n",
       "        vertical-align: middle;\n",
       "    }\n",
       "\n",
       "    .dataframe tbody tr th {\n",
       "        vertical-align: top;\n",
       "    }\n",
       "\n",
       "    .dataframe thead th {\n",
       "        text-align: right;\n",
       "    }\n",
       "</style>\n",
       "<table border=\"1\" class=\"dataframe\">\n",
       "  <thead>\n",
       "    <tr style=\"text-align: right;\">\n",
       "      <th></th>\n",
       "      <th>SUBNATIONAL1_CODE</th>\n",
       "      <th>YEAR</th>\n",
       "      <th>SPECIES_CODE</th>\n",
       "      <th>COMMON_NAME</th>\n",
       "      <th>TOTAL_COUNTED</th>\n",
       "      <th>AVERAGE_COUNTED</th>\n",
       "      <th>COUNTRY</th>\n",
       "      <th>STATE/PROVINCE</th>\n",
       "      <th>INVASIVE</th>\n",
       "    </tr>\n",
       "  </thead>\n",
       "  <tbody>\n",
       "    <tr>\n",
       "      <th>0</th>\n",
       "      <td>CA-AB</td>\n",
       "      <td>1988</td>\n",
       "      <td>bkcchi</td>\n",
       "      <td>Black-capped Chickadee</td>\n",
       "      <td>301.0</td>\n",
       "      <td>6.688889</td>\n",
       "      <td>CA</td>\n",
       "      <td>AB</td>\n",
       "      <td>0</td>\n",
       "    </tr>\n",
       "    <tr>\n",
       "      <th>1</th>\n",
       "      <td>CA-AB</td>\n",
       "      <td>1988</td>\n",
       "      <td>borchi2</td>\n",
       "      <td>Boreal Chickadee</td>\n",
       "      <td>11.0</td>\n",
       "      <td>2.200000</td>\n",
       "      <td>CA</td>\n",
       "      <td>AB</td>\n",
       "      <td>0</td>\n",
       "    </tr>\n",
       "    <tr>\n",
       "      <th>2</th>\n",
       "      <td>CA-AB</td>\n",
       "      <td>1988</td>\n",
       "      <td>brncre</td>\n",
       "      <td>Brown Creeper</td>\n",
       "      <td>1.0</td>\n",
       "      <td>1.000000</td>\n",
       "      <td>CA</td>\n",
       "      <td>AB</td>\n",
       "      <td>0</td>\n",
       "    </tr>\n",
       "    <tr>\n",
       "      <th>3</th>\n",
       "      <td>CA-AB</td>\n",
       "      <td>1988</td>\n",
       "      <td>chbchi</td>\n",
       "      <td>Chestnut-backed Chickadee</td>\n",
       "      <td>22.0</td>\n",
       "      <td>22.000000</td>\n",
       "      <td>CA</td>\n",
       "      <td>AB</td>\n",
       "      <td>0</td>\n",
       "    </tr>\n",
       "    <tr>\n",
       "      <th>4</th>\n",
       "      <td>CA-AB</td>\n",
       "      <td>1988</td>\n",
       "      <td>dowwoo</td>\n",
       "      <td>Downy Woodpecker</td>\n",
       "      <td>39.0</td>\n",
       "      <td>1.300000</td>\n",
       "      <td>CA</td>\n",
       "      <td>AB</td>\n",
       "      <td>0</td>\n",
       "    </tr>\n",
       "  </tbody>\n",
       "</table>\n",
       "</div>"
      ],
      "text/plain": [
       "  SUBNATIONAL1_CODE  YEAR SPECIES_CODE                COMMON_NAME  \\\n",
       "0             CA-AB  1988       bkcchi     Black-capped Chickadee   \n",
       "1             CA-AB  1988      borchi2           Boreal Chickadee   \n",
       "2             CA-AB  1988       brncre              Brown Creeper   \n",
       "3             CA-AB  1988       chbchi  Chestnut-backed Chickadee   \n",
       "4             CA-AB  1988       dowwoo           Downy Woodpecker   \n",
       "\n",
       "   TOTAL_COUNTED  AVERAGE_COUNTED COUNTRY STATE/PROVINCE  INVASIVE  \n",
       "0          301.0         6.688889      CA             AB         0  \n",
       "1           11.0         2.200000      CA             AB         0  \n",
       "2            1.0         1.000000      CA             AB         0  \n",
       "3           22.0        22.000000      CA             AB         0  \n",
       "4           39.0         1.300000      CA             AB         0  "
      ]
     },
     "execution_count": 128,
     "metadata": {},
     "output_type": "execute_result"
    }
   ],
   "source": [
    "invasive_code = ['houspa', 'eursta', 'eutspa']\n",
    "\n",
    "birds_main_sec_2['INVASIVE'] = birds_main_sec_2['SPECIES_CODE'].isin(invasive_code).map({True: 1, False: 0})\n",
    "\n",
    "birds_main_sec_2.head()"
   ]
  },
  {
   "cell_type": "markdown",
   "id": "0adac909",
   "metadata": {},
   "source": [
    "## Final assembly\n",
    "With all the foreseeable necessary variables created and the observations filtered and aggregated, it's time for a some **5S** methodology to bring it all together."
   ]
  },
  {
   "cell_type": "code",
   "execution_count": 129,
   "id": "4c143c1c",
   "metadata": {},
   "outputs": [
    {
     "data": {
      "text/html": [
       "<div>\n",
       "<style scoped>\n",
       "    .dataframe tbody tr th:only-of-type {\n",
       "        vertical-align: middle;\n",
       "    }\n",
       "\n",
       "    .dataframe tbody tr th {\n",
       "        vertical-align: top;\n",
       "    }\n",
       "\n",
       "    .dataframe thead th {\n",
       "        text-align: right;\n",
       "    }\n",
       "</style>\n",
       "<table border=\"1\" class=\"dataframe\">\n",
       "  <thead>\n",
       "    <tr style=\"text-align: right;\">\n",
       "      <th></th>\n",
       "      <th>YEAR</th>\n",
       "      <th>COUNTRY</th>\n",
       "      <th>STATE/PROVINCE</th>\n",
       "      <th>SPECIES_CODE</th>\n",
       "      <th>COMMON_NAME</th>\n",
       "      <th>INVASIVE</th>\n",
       "      <th>TOTAL_COUNTED</th>\n",
       "      <th>AVERAGE_COUNTED</th>\n",
       "    </tr>\n",
       "  </thead>\n",
       "  <tbody>\n",
       "    <tr>\n",
       "      <th>0</th>\n",
       "      <td>1987</td>\n",
       "      <td>US</td>\n",
       "      <td>NJ</td>\n",
       "      <td>tuftit</td>\n",
       "      <td>Tufted Titmouse</td>\n",
       "      <td>0</td>\n",
       "      <td>6.0</td>\n",
       "      <td>2.00</td>\n",
       "    </tr>\n",
       "    <tr>\n",
       "      <th>1</th>\n",
       "      <td>1987</td>\n",
       "      <td>US</td>\n",
       "      <td>NJ</td>\n",
       "      <td>houspa</td>\n",
       "      <td>House Sparrow</td>\n",
       "      <td>1</td>\n",
       "      <td>195.0</td>\n",
       "      <td>39.00</td>\n",
       "    </tr>\n",
       "    <tr>\n",
       "      <th>2</th>\n",
       "      <td>1987</td>\n",
       "      <td>US</td>\n",
       "      <td>NJ</td>\n",
       "      <td>houfin</td>\n",
       "      <td>House Finch</td>\n",
       "      <td>0</td>\n",
       "      <td>38.0</td>\n",
       "      <td>7.60</td>\n",
       "    </tr>\n",
       "    <tr>\n",
       "      <th>3</th>\n",
       "      <td>1987</td>\n",
       "      <td>US</td>\n",
       "      <td>NJ</td>\n",
       "      <td>eursta</td>\n",
       "      <td>European Starling</td>\n",
       "      <td>1</td>\n",
       "      <td>61.0</td>\n",
       "      <td>12.20</td>\n",
       "    </tr>\n",
       "    <tr>\n",
       "      <th>4</th>\n",
       "      <td>1987</td>\n",
       "      <td>US</td>\n",
       "      <td>NJ</td>\n",
       "      <td>dowwoo</td>\n",
       "      <td>Downy Woodpecker</td>\n",
       "      <td>0</td>\n",
       "      <td>7.0</td>\n",
       "      <td>1.75</td>\n",
       "    </tr>\n",
       "  </tbody>\n",
       "</table>\n",
       "</div>"
      ],
      "text/plain": [
       "   YEAR COUNTRY STATE/PROVINCE SPECIES_CODE        COMMON_NAME  INVASIVE  \\\n",
       "0  1987      US             NJ       tuftit    Tufted Titmouse         0   \n",
       "1  1987      US             NJ       houspa      House Sparrow         1   \n",
       "2  1987      US             NJ       houfin        House Finch         0   \n",
       "3  1987      US             NJ       eursta  European Starling         1   \n",
       "4  1987      US             NJ       dowwoo   Downy Woodpecker         0   \n",
       "\n",
       "   TOTAL_COUNTED  AVERAGE_COUNTED  \n",
       "0            6.0             2.00  \n",
       "1          195.0            39.00  \n",
       "2           38.0             7.60  \n",
       "3           61.0            12.20  \n",
       "4            7.0             1.75  "
      ]
     },
     "execution_count": 129,
     "metadata": {},
     "output_type": "execute_result"
    }
   ],
   "source": [
    "# remove 'SUBNATIONAL1_CODE' and reorder columns\n",
    "\n",
    "birds_main = birds_main_sec_2[['YEAR', 'COUNTRY', 'STATE/PROVINCE', 'SPECIES_CODE', 'COMMON_NAME',\n",
    "        'INVASIVE', 'TOTAL_COUNTED', 'AVERAGE_COUNTED']].sort_values(by = ['YEAR'], ascending = True)\n",
    "birds_main.reset_index(drop = True, inplace = True)\n",
    "\n",
    "birds_main.head()"
   ]
  },
  {
   "cell_type": "code",
   "execution_count": 130,
   "id": "cf71e808",
   "metadata": {},
   "outputs": [
    {
     "name": "stdout",
     "output_type": "stream",
     "text": [
      "<class 'pandas.core.frame.DataFrame'>\n",
      "RangeIndex: 41481 entries, 0 to 41480\n",
      "Data columns (total 8 columns):\n",
      " #   Column           Non-Null Count  Dtype  \n",
      "---  ------           --------------  -----  \n",
      " 0   YEAR             41481 non-null  int64  \n",
      " 1   COUNTRY          41481 non-null  object \n",
      " 2   STATE/PROVINCE   41481 non-null  object \n",
      " 3   SPECIES_CODE     41481 non-null  object \n",
      " 4   COMMON_NAME      41481 non-null  object \n",
      " 5   INVASIVE         41481 non-null  int64  \n",
      " 6   TOTAL_COUNTED    41481 non-null  float64\n",
      " 7   AVERAGE_COUNTED  41481 non-null  float64\n",
      "dtypes: float64(2), int64(2), object(4)\n",
      "memory usage: 2.5+ MB\n"
     ]
    }
   ],
   "source": [
    "birds_main.info()"
   ]
  },
  {
   "cell_type": "markdown",
   "id": "d5866e09-9220-4888-ae67-f8a4a7ca6bbe",
   "metadata": {},
   "source": [
    "### Another check for missing data"
   ]
  },
  {
   "cell_type": "code",
   "execution_count": 131,
   "id": "892298bb-72cb-4f2c-88dd-f5d90bc37cfc",
   "metadata": {},
   "outputs": [
    {
     "data": {
      "text/html": [
       "<div>\n",
       "<style scoped>\n",
       "    .dataframe tbody tr th:only-of-type {\n",
       "        vertical-align: middle;\n",
       "    }\n",
       "\n",
       "    .dataframe tbody tr th {\n",
       "        vertical-align: top;\n",
       "    }\n",
       "\n",
       "    .dataframe thead th {\n",
       "        text-align: right;\n",
       "    }\n",
       "</style>\n",
       "<table border=\"1\" class=\"dataframe\">\n",
       "  <thead>\n",
       "    <tr style=\"text-align: right;\">\n",
       "      <th></th>\n",
       "      <th>Total Missing</th>\n",
       "      <th>Percent</th>\n",
       "    </tr>\n",
       "  </thead>\n",
       "  <tbody>\n",
       "    <tr>\n",
       "      <th>YEAR</th>\n",
       "      <td>0</td>\n",
       "      <td>0.0</td>\n",
       "    </tr>\n",
       "    <tr>\n",
       "      <th>COUNTRY</th>\n",
       "      <td>0</td>\n",
       "      <td>0.0</td>\n",
       "    </tr>\n",
       "    <tr>\n",
       "      <th>STATE/PROVINCE</th>\n",
       "      <td>0</td>\n",
       "      <td>0.0</td>\n",
       "    </tr>\n",
       "    <tr>\n",
       "      <th>SPECIES_CODE</th>\n",
       "      <td>0</td>\n",
       "      <td>0.0</td>\n",
       "    </tr>\n",
       "    <tr>\n",
       "      <th>COMMON_NAME</th>\n",
       "      <td>0</td>\n",
       "      <td>0.0</td>\n",
       "    </tr>\n",
       "    <tr>\n",
       "      <th>INVASIVE</th>\n",
       "      <td>0</td>\n",
       "      <td>0.0</td>\n",
       "    </tr>\n",
       "    <tr>\n",
       "      <th>TOTAL_COUNTED</th>\n",
       "      <td>0</td>\n",
       "      <td>0.0</td>\n",
       "    </tr>\n",
       "    <tr>\n",
       "      <th>AVERAGE_COUNTED</th>\n",
       "      <td>0</td>\n",
       "      <td>0.0</td>\n",
       "    </tr>\n",
       "  </tbody>\n",
       "</table>\n",
       "</div>"
      ],
      "text/plain": [
       "                 Total Missing  Percent\n",
       "YEAR                         0      0.0\n",
       "COUNTRY                      0      0.0\n",
       "STATE/PROVINCE               0      0.0\n",
       "SPECIES_CODE                 0      0.0\n",
       "COMMON_NAME                  0      0.0\n",
       "INVASIVE                     0      0.0\n",
       "TOTAL_COUNTED                0      0.0\n",
       "AVERAGE_COUNTED              0      0.0"
      ]
     },
     "execution_count": 131,
     "metadata": {},
     "output_type": "execute_result"
    }
   ],
   "source": [
    "total = birds_main.isnull().sum().sort_values(ascending=False)\n",
    "percent = (birds_main.isnull().sum()/birds_main.isnull().count()).sort_values(ascending=False)\n",
    "missing_data = pd.concat([total, percent], axis=1, keys=['Total Missing', 'Percent'])\n",
    "\n",
    "missing_data"
   ]
  },
  {
   "cell_type": "markdown",
   "id": "d5e2b6e1-e7aa-4a0f-a875-f655f2be1b4d",
   "metadata": {},
   "source": [
    "---\n",
    "## Writing the final draft to .csv\n",
    "With the final assembly complete and the file size now at a mere and very GitHub-friendly 2.5+ MB, it's ready to fly. (Pun intended.) "
   ]
  },
  {
   "cell_type": "code",
   "execution_count": 132,
   "id": "a7bcd3b8",
   "metadata": {},
   "outputs": [],
   "source": [
    "birds_main.to_csv('invasive_birds_final.csv', index = None, header=True)"
   ]
  },
  {
   "cell_type": "markdown",
   "id": "af2160d4-31ba-4cd5-8d41-7e77abf2e2f3",
   "metadata": {},
   "source": [
    "---\n",
    "## Loading and inspecting the new working file"
   ]
  },
  {
   "cell_type": "code",
   "execution_count": 133,
   "id": "a595cbb8-48a4-4b6b-bced-0b5269bfee54",
   "metadata": {},
   "outputs": [
    {
     "data": {
      "text/html": [
       "<div>\n",
       "<style scoped>\n",
       "    .dataframe tbody tr th:only-of-type {\n",
       "        vertical-align: middle;\n",
       "    }\n",
       "\n",
       "    .dataframe tbody tr th {\n",
       "        vertical-align: top;\n",
       "    }\n",
       "\n",
       "    .dataframe thead th {\n",
       "        text-align: right;\n",
       "    }\n",
       "</style>\n",
       "<table border=\"1\" class=\"dataframe\">\n",
       "  <thead>\n",
       "    <tr style=\"text-align: right;\">\n",
       "      <th></th>\n",
       "      <th>YEAR</th>\n",
       "      <th>COUNTRY</th>\n",
       "      <th>STATE/PROVINCE</th>\n",
       "      <th>SPECIES_CODE</th>\n",
       "      <th>COMMON_NAME</th>\n",
       "      <th>INVASIVE</th>\n",
       "      <th>TOTAL_COUNTED</th>\n",
       "      <th>AVERAGE_COUNTED</th>\n",
       "    </tr>\n",
       "  </thead>\n",
       "  <tbody>\n",
       "    <tr>\n",
       "      <th>0</th>\n",
       "      <td>1987</td>\n",
       "      <td>US</td>\n",
       "      <td>NJ</td>\n",
       "      <td>tuftit</td>\n",
       "      <td>Tufted Titmouse</td>\n",
       "      <td>0</td>\n",
       "      <td>6.0</td>\n",
       "      <td>2.00</td>\n",
       "    </tr>\n",
       "    <tr>\n",
       "      <th>1</th>\n",
       "      <td>1987</td>\n",
       "      <td>US</td>\n",
       "      <td>NJ</td>\n",
       "      <td>houspa</td>\n",
       "      <td>House Sparrow</td>\n",
       "      <td>1</td>\n",
       "      <td>195.0</td>\n",
       "      <td>39.00</td>\n",
       "    </tr>\n",
       "    <tr>\n",
       "      <th>2</th>\n",
       "      <td>1987</td>\n",
       "      <td>US</td>\n",
       "      <td>NJ</td>\n",
       "      <td>houfin</td>\n",
       "      <td>House Finch</td>\n",
       "      <td>0</td>\n",
       "      <td>38.0</td>\n",
       "      <td>7.60</td>\n",
       "    </tr>\n",
       "    <tr>\n",
       "      <th>3</th>\n",
       "      <td>1987</td>\n",
       "      <td>US</td>\n",
       "      <td>NJ</td>\n",
       "      <td>eursta</td>\n",
       "      <td>European Starling</td>\n",
       "      <td>1</td>\n",
       "      <td>61.0</td>\n",
       "      <td>12.20</td>\n",
       "    </tr>\n",
       "    <tr>\n",
       "      <th>4</th>\n",
       "      <td>1987</td>\n",
       "      <td>US</td>\n",
       "      <td>NJ</td>\n",
       "      <td>dowwoo</td>\n",
       "      <td>Downy Woodpecker</td>\n",
       "      <td>0</td>\n",
       "      <td>7.0</td>\n",
       "      <td>1.75</td>\n",
       "    </tr>\n",
       "  </tbody>\n",
       "</table>\n",
       "</div>"
      ],
      "text/plain": [
       "   YEAR COUNTRY STATE/PROVINCE SPECIES_CODE        COMMON_NAME  INVASIVE  \\\n",
       "0  1987      US             NJ       tuftit    Tufted Titmouse         0   \n",
       "1  1987      US             NJ       houspa      House Sparrow         1   \n",
       "2  1987      US             NJ       houfin        House Finch         0   \n",
       "3  1987      US             NJ       eursta  European Starling         1   \n",
       "4  1987      US             NJ       dowwoo   Downy Woodpecker         0   \n",
       "\n",
       "   TOTAL_COUNTED  AVERAGE_COUNTED  \n",
       "0            6.0             2.00  \n",
       "1          195.0            39.00  \n",
       "2           38.0             7.60  \n",
       "3           61.0            12.20  \n",
       "4            7.0             1.75  "
      ]
     },
     "execution_count": 133,
     "metadata": {},
     "output_type": "execute_result"
    }
   ],
   "source": [
    "birds_df = pd.read_csv('invasive_birds_final.csv')\n",
    "\n",
    "birds_df.head()"
   ]
  },
  {
   "cell_type": "code",
   "execution_count": 134,
   "id": "1822a224-611b-4300-a97f-85e432887f56",
   "metadata": {},
   "outputs": [
    {
     "name": "stdout",
     "output_type": "stream",
     "text": [
      "<class 'pandas.core.frame.DataFrame'>\n",
      "RangeIndex: 41481 entries, 0 to 41480\n",
      "Data columns (total 8 columns):\n",
      " #   Column           Non-Null Count  Dtype  \n",
      "---  ------           --------------  -----  \n",
      " 0   YEAR             41481 non-null  int64  \n",
      " 1   COUNTRY          41481 non-null  object \n",
      " 2   STATE/PROVINCE   41481 non-null  object \n",
      " 3   SPECIES_CODE     41481 non-null  object \n",
      " 4   COMMON_NAME      41481 non-null  object \n",
      " 5   INVASIVE         41481 non-null  int64  \n",
      " 6   TOTAL_COUNTED    41481 non-null  float64\n",
      " 7   AVERAGE_COUNTED  41481 non-null  float64\n",
      "dtypes: float64(2), int64(2), object(4)\n",
      "memory usage: 2.5+ MB\n"
     ]
    }
   ],
   "source": [
    "birds_df.info()"
   ]
  },
  {
   "cell_type": "code",
   "execution_count": 135,
   "id": "163237d0-2317-4bc4-b5c7-27dbde6da2d6",
   "metadata": {},
   "outputs": [
    {
     "data": {
      "text/html": [
       "<div>\n",
       "<style scoped>\n",
       "    .dataframe tbody tr th:only-of-type {\n",
       "        vertical-align: middle;\n",
       "    }\n",
       "\n",
       "    .dataframe tbody tr th {\n",
       "        vertical-align: top;\n",
       "    }\n",
       "\n",
       "    .dataframe thead th {\n",
       "        text-align: right;\n",
       "    }\n",
       "</style>\n",
       "<table border=\"1\" class=\"dataframe\">\n",
       "  <thead>\n",
       "    <tr style=\"text-align: right;\">\n",
       "      <th></th>\n",
       "      <th>YEAR</th>\n",
       "      <th>INVASIVE</th>\n",
       "      <th>TOTAL_COUNTED</th>\n",
       "      <th>AVERAGE_COUNTED</th>\n",
       "    </tr>\n",
       "  </thead>\n",
       "  <tbody>\n",
       "    <tr>\n",
       "      <th>count</th>\n",
       "      <td>41481.000000</td>\n",
       "      <td>41481.000000</td>\n",
       "      <td>4.148100e+04</td>\n",
       "      <td>41481.000000</td>\n",
       "    </tr>\n",
       "    <tr>\n",
       "      <th>mean</th>\n",
       "      <td>2006.573781</td>\n",
       "      <td>0.111666</td>\n",
       "      <td>8.193680e+03</td>\n",
       "      <td>4.018409</td>\n",
       "    </tr>\n",
       "    <tr>\n",
       "      <th>std</th>\n",
       "      <td>10.593436</td>\n",
       "      <td>0.314958</td>\n",
       "      <td>1.309572e+06</td>\n",
       "      <td>127.369894</td>\n",
       "    </tr>\n",
       "    <tr>\n",
       "      <th>min</th>\n",
       "      <td>1987.000000</td>\n",
       "      <td>0.000000</td>\n",
       "      <td>1.000000e+00</td>\n",
       "      <td>1.000000</td>\n",
       "    </tr>\n",
       "    <tr>\n",
       "      <th>25%</th>\n",
       "      <td>1998.000000</td>\n",
       "      <td>0.000000</td>\n",
       "      <td>1.500000e+01</td>\n",
       "      <td>1.196273</td>\n",
       "    </tr>\n",
       "    <tr>\n",
       "      <th>50%</th>\n",
       "      <td>2007.000000</td>\n",
       "      <td>0.000000</td>\n",
       "      <td>1.490000e+02</td>\n",
       "      <td>1.642692</td>\n",
       "    </tr>\n",
       "    <tr>\n",
       "      <th>75%</th>\n",
       "      <td>2016.000000</td>\n",
       "      <td>0.000000</td>\n",
       "      <td>1.126000e+03</td>\n",
       "      <td>3.257143</td>\n",
       "    </tr>\n",
       "    <tr>\n",
       "      <th>max</th>\n",
       "      <td>2024.000000</td>\n",
       "      <td>1.000000</td>\n",
       "      <td>2.667188e+08</td>\n",
       "      <td>25804.838719</td>\n",
       "    </tr>\n",
       "  </tbody>\n",
       "</table>\n",
       "</div>"
      ],
      "text/plain": [
       "               YEAR      INVASIVE  TOTAL_COUNTED  AVERAGE_COUNTED\n",
       "count  41481.000000  41481.000000   4.148100e+04     41481.000000\n",
       "mean    2006.573781      0.111666   8.193680e+03         4.018409\n",
       "std       10.593436      0.314958   1.309572e+06       127.369894\n",
       "min     1987.000000      0.000000   1.000000e+00         1.000000\n",
       "25%     1998.000000      0.000000   1.500000e+01         1.196273\n",
       "50%     2007.000000      0.000000   1.490000e+02         1.642692\n",
       "75%     2016.000000      0.000000   1.126000e+03         3.257143\n",
       "max     2024.000000      1.000000   2.667188e+08     25804.838719"
      ]
     },
     "execution_count": 135,
     "metadata": {},
     "output_type": "execute_result"
    }
   ],
   "source": [
    "birds_df.describe()"
   ]
  },
  {
   "cell_type": "code",
   "execution_count": 136,
   "id": "b9ffb926-ee52-4290-b23d-183e26c6ce53",
   "metadata": {},
   "outputs": [
    {
     "data": {
      "text/html": [
       "<div>\n",
       "<style scoped>\n",
       "    .dataframe tbody tr th:only-of-type {\n",
       "        vertical-align: middle;\n",
       "    }\n",
       "\n",
       "    .dataframe tbody tr th {\n",
       "        vertical-align: top;\n",
       "    }\n",
       "\n",
       "    .dataframe thead th {\n",
       "        text-align: right;\n",
       "    }\n",
       "</style>\n",
       "<table border=\"1\" class=\"dataframe\">\n",
       "  <thead>\n",
       "    <tr style=\"text-align: right;\">\n",
       "      <th></th>\n",
       "      <th>Total Missing</th>\n",
       "      <th>Percent</th>\n",
       "    </tr>\n",
       "  </thead>\n",
       "  <tbody>\n",
       "    <tr>\n",
       "      <th>YEAR</th>\n",
       "      <td>0</td>\n",
       "      <td>0.0</td>\n",
       "    </tr>\n",
       "    <tr>\n",
       "      <th>COUNTRY</th>\n",
       "      <td>0</td>\n",
       "      <td>0.0</td>\n",
       "    </tr>\n",
       "    <tr>\n",
       "      <th>STATE/PROVINCE</th>\n",
       "      <td>0</td>\n",
       "      <td>0.0</td>\n",
       "    </tr>\n",
       "    <tr>\n",
       "      <th>SPECIES_CODE</th>\n",
       "      <td>0</td>\n",
       "      <td>0.0</td>\n",
       "    </tr>\n",
       "    <tr>\n",
       "      <th>COMMON_NAME</th>\n",
       "      <td>0</td>\n",
       "      <td>0.0</td>\n",
       "    </tr>\n",
       "    <tr>\n",
       "      <th>INVASIVE</th>\n",
       "      <td>0</td>\n",
       "      <td>0.0</td>\n",
       "    </tr>\n",
       "    <tr>\n",
       "      <th>TOTAL_COUNTED</th>\n",
       "      <td>0</td>\n",
       "      <td>0.0</td>\n",
       "    </tr>\n",
       "    <tr>\n",
       "      <th>AVERAGE_COUNTED</th>\n",
       "      <td>0</td>\n",
       "      <td>0.0</td>\n",
       "    </tr>\n",
       "  </tbody>\n",
       "</table>\n",
       "</div>"
      ],
      "text/plain": [
       "                 Total Missing  Percent\n",
       "YEAR                         0      0.0\n",
       "COUNTRY                      0      0.0\n",
       "STATE/PROVINCE               0      0.0\n",
       "SPECIES_CODE                 0      0.0\n",
       "COMMON_NAME                  0      0.0\n",
       "INVASIVE                     0      0.0\n",
       "TOTAL_COUNTED                0      0.0\n",
       "AVERAGE_COUNTED              0      0.0"
      ]
     },
     "execution_count": 136,
     "metadata": {},
     "output_type": "execute_result"
    }
   ],
   "source": [
    "# check for missing data\n",
    "\n",
    "total = birds_df.isnull().sum().sort_values(ascending=False)\n",
    "percent = (birds_df.isnull().sum()/birds_df.isnull().count()).sort_values(ascending=False)\n",
    "missing_data = pd.concat([total, percent], axis=1, keys=['Total Missing', 'Percent'])\n",
    "missing_data"
   ]
  },
  {
   "cell_type": "code",
   "execution_count": null,
   "id": "70af8d48-6ce7-4184-9fcf-dbd30685f79a",
   "metadata": {},
   "outputs": [],
   "source": []
  }
 ],
 "metadata": {
  "kernelspec": {
   "display_name": "Python 3 (ipykernel)",
   "language": "python",
   "name": "python3"
  },
  "language_info": {
   "codemirror_mode": {
    "name": "ipython",
    "version": 3
   },
   "file_extension": ".py",
   "mimetype": "text/x-python",
   "name": "python",
   "nbconvert_exporter": "python",
   "pygments_lexer": "ipython3",
   "version": "3.11.7"
  }
 },
 "nbformat": 4,
 "nbformat_minor": 5
}
